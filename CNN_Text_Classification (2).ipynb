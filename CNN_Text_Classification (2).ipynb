{
  "cells": [
    {
      "cell_type": "markdown",
      "metadata": {
        "id": "yREs6JDGhQ8U"
      },
      "source": [
        "Let us look at how we can implement text classification with Tensorflow https://www.tensorflow.org/\n",
        "TensorFlow is an end-to-end open source platform for machine learning. \n",
        "The dataset is from the Tweet Sentiment Extraction challenge from Kaggle(https://www.kaggle.com/c/tweet-sentiment-extraction/overview)\n",
        "We would implement text classification using a simple convolutional network developed using Tensorflow on tweet data to classify tweets as \"positive\",\"negative\" or \"neutral\""
      ]
    },
    {
      "cell_type": "code",
      "source": [
        "import matplotlib.pyplot as plt\n",
        "import os\n",
        "import re\n",
        "import shutil\n",
        "import string\n",
        "import tensorflow as tf\n",
        "\n",
        "import tensorflow_hub as hub\n",
        "\n",
        "\n",
        "from sklearn.feature_extraction.text import TfidfVectorizer\n",
        "from sklearn.decomposition import PCA\n",
        "from collections import Counter\n",
        "from nltk.tokenize import word_tokenize\n",
        "from nltk.tokenize import sent_tokenize\n",
        "from nltk.stem import WordNetLemmatizer\n",
        "from sklearn.preprocessing import LabelEncoder\n",
        "from sklearn.model_selection import train_test_split\n",
        "import matplotlib.pyplot as plt\n",
        "import nltk\n",
        "nltk.download('stopwords')\n",
        "from nltk.corpus import stopwords\n",
        "import pydot\n",
        "import matplotlib.pyplot as plt\n",
        "import os\n",
        "import re\n",
        "import shutil\n",
        "import string\n",
        "import tensorflow as tf\n",
        "from tensorflow.keras import regularizers\n",
        "from tensorflow.keras import layers\n",
        "from tensorflow.keras import losses\n",
        "from collections import Counter\n",
        "import pandas as pd\n",
        "import numpy as np\n",
        "from sklearn.preprocessing import LabelEncoder\n",
        "from sklearn.model_selection import train_test_split\n",
        "from sklearn.metrics import classification_report\n",
        "from tensorflow.keras import preprocessing\n",
        "from tensorflow.keras.preprocessing.text import Tokenizer\n",
        "from tensorflow.keras.preprocessing.sequence import pad_sequences"
      ],
      "metadata": {
        "id": "00xfRk-4jyyM",
        "outputId": "fa963629-cff2-43e8-ffe0-dd0da5d52a44",
        "colab": {
          "base_uri": "https://localhost:8080/"
        }
      },
      "execution_count": 24,
      "outputs": [
        {
          "output_type": "stream",
          "name": "stderr",
          "text": [
            "[nltk_data] Downloading package stopwords to /root/nltk_data...\n",
            "[nltk_data]   Package stopwords is already up-to-date!\n"
          ]
        }
      ]
    },
    {
      "cell_type": "code",
      "execution_count": 25,
      "metadata": {
        "id": "iSInWh4phQ8d",
        "outputId": "bf6b9d60-2eef-475b-e4a7-52ed0c840258",
        "colab": {
          "base_uri": "https://localhost:8080/"
        }
      },
      "outputs": [
        {
          "output_type": "stream",
          "name": "stdout",
          "text": [
            "2.9.2\n"
          ]
        }
      ],
      "source": [
        "print(tf.__version__)\n",
        "#policy = mixed_precision.Policy('mixed_float16')\n",
        "#mixed_precision.set_policy(policy)"
      ]
    },
    {
      "cell_type": "code",
      "execution_count": 26,
      "metadata": {
        "id": "maYNCiA4hQ8f",
        "outputId": "2e871e37-9729-42c0-f0a5-a6f621cceea5",
        "colab": {
          "base_uri": "https://localhost:8080/"
        }
      },
      "outputs": [
        {
          "output_type": "stream",
          "name": "stdout",
          "text": [
            "Please install GPU version of TF\n"
          ]
        }
      ],
      "source": [
        "if tf.test.gpu_device_name(): \n",
        "    print('Default GPU Device:{}'.format(tf.test.gpu_device_name()))\n",
        "\n",
        "else:\n",
        "    print(\"Please install GPU version of TF\")"
      ]
    },
    {
      "cell_type": "markdown",
      "metadata": {
        "id": "bOUNgSt7hQ8f"
      },
      "source": [
        "Let us define methods to pre-process the tweets"
      ]
    },
    {
      "cell_type": "code",
      "source": [
        "df = pd.read_csv(\"mtsamples.csv\")\n",
        "df.head()"
      ],
      "metadata": {
        "id": "WDSAwTJYhkNR",
        "outputId": "ec4401f5-af07-4e0b-9d28-bc591ae1dfa0",
        "colab": {
          "base_uri": "https://localhost:8080/",
          "height": 441
        }
      },
      "execution_count": 27,
      "outputs": [
        {
          "output_type": "execute_result",
          "data": {
            "text/plain": [
              "   Unnamed: 0                                        description  \\\n",
              "0           0   A 23-year-old white female presents with comp...   \n",
              "1           1           Consult for laparoscopic gastric bypass.   \n",
              "2           2           Consult for laparoscopic gastric bypass.   \n",
              "3           3                             2-D M-Mode. Doppler.     \n",
              "4           4                                 2-D Echocardiogram   \n",
              "\n",
              "             medical_specialty                                sample_name  \\\n",
              "0         Allergy / Immunology                         Allergic Rhinitis    \n",
              "1                   Bariatrics   Laparoscopic Gastric Bypass Consult - 2    \n",
              "2                   Bariatrics   Laparoscopic Gastric Bypass Consult - 1    \n",
              "3   Cardiovascular / Pulmonary                    2-D Echocardiogram - 1    \n",
              "4   Cardiovascular / Pulmonary                    2-D Echocardiogram - 2    \n",
              "\n",
              "                                       transcription  \\\n",
              "0  SUBJECTIVE:,  This 23-year-old white female pr...   \n",
              "1  PAST MEDICAL HISTORY:, He has difficulty climb...   \n",
              "2  HISTORY OF PRESENT ILLNESS: , I have seen ABC ...   \n",
              "3  2-D M-MODE: , ,1.  Left atrial enlargement wit...   \n",
              "4  1.  The left ventricular cavity size and wall ...   \n",
              "\n",
              "                                            keywords  \n",
              "0  allergy / immunology, allergic rhinitis, aller...  \n",
              "1  bariatrics, laparoscopic gastric bypass, weigh...  \n",
              "2  bariatrics, laparoscopic gastric bypass, heart...  \n",
              "3  cardiovascular / pulmonary, 2-d m-mode, dopple...  \n",
              "4  cardiovascular / pulmonary, 2-d, doppler, echo...  "
            ],
            "text/html": [
              "\n",
              "  <div id=\"df-4b68f716-8255-42e1-9aa2-5da7f80c81ec\">\n",
              "    <div class=\"colab-df-container\">\n",
              "      <div>\n",
              "<style scoped>\n",
              "    .dataframe tbody tr th:only-of-type {\n",
              "        vertical-align: middle;\n",
              "    }\n",
              "\n",
              "    .dataframe tbody tr th {\n",
              "        vertical-align: top;\n",
              "    }\n",
              "\n",
              "    .dataframe thead th {\n",
              "        text-align: right;\n",
              "    }\n",
              "</style>\n",
              "<table border=\"1\" class=\"dataframe\">\n",
              "  <thead>\n",
              "    <tr style=\"text-align: right;\">\n",
              "      <th></th>\n",
              "      <th>Unnamed: 0</th>\n",
              "      <th>description</th>\n",
              "      <th>medical_specialty</th>\n",
              "      <th>sample_name</th>\n",
              "      <th>transcription</th>\n",
              "      <th>keywords</th>\n",
              "    </tr>\n",
              "  </thead>\n",
              "  <tbody>\n",
              "    <tr>\n",
              "      <th>0</th>\n",
              "      <td>0</td>\n",
              "      <td>A 23-year-old white female presents with comp...</td>\n",
              "      <td>Allergy / Immunology</td>\n",
              "      <td>Allergic Rhinitis</td>\n",
              "      <td>SUBJECTIVE:,  This 23-year-old white female pr...</td>\n",
              "      <td>allergy / immunology, allergic rhinitis, aller...</td>\n",
              "    </tr>\n",
              "    <tr>\n",
              "      <th>1</th>\n",
              "      <td>1</td>\n",
              "      <td>Consult for laparoscopic gastric bypass.</td>\n",
              "      <td>Bariatrics</td>\n",
              "      <td>Laparoscopic Gastric Bypass Consult - 2</td>\n",
              "      <td>PAST MEDICAL HISTORY:, He has difficulty climb...</td>\n",
              "      <td>bariatrics, laparoscopic gastric bypass, weigh...</td>\n",
              "    </tr>\n",
              "    <tr>\n",
              "      <th>2</th>\n",
              "      <td>2</td>\n",
              "      <td>Consult for laparoscopic gastric bypass.</td>\n",
              "      <td>Bariatrics</td>\n",
              "      <td>Laparoscopic Gastric Bypass Consult - 1</td>\n",
              "      <td>HISTORY OF PRESENT ILLNESS: , I have seen ABC ...</td>\n",
              "      <td>bariatrics, laparoscopic gastric bypass, heart...</td>\n",
              "    </tr>\n",
              "    <tr>\n",
              "      <th>3</th>\n",
              "      <td>3</td>\n",
              "      <td>2-D M-Mode. Doppler.</td>\n",
              "      <td>Cardiovascular / Pulmonary</td>\n",
              "      <td>2-D Echocardiogram - 1</td>\n",
              "      <td>2-D M-MODE: , ,1.  Left atrial enlargement wit...</td>\n",
              "      <td>cardiovascular / pulmonary, 2-d m-mode, dopple...</td>\n",
              "    </tr>\n",
              "    <tr>\n",
              "      <th>4</th>\n",
              "      <td>4</td>\n",
              "      <td>2-D Echocardiogram</td>\n",
              "      <td>Cardiovascular / Pulmonary</td>\n",
              "      <td>2-D Echocardiogram - 2</td>\n",
              "      <td>1.  The left ventricular cavity size and wall ...</td>\n",
              "      <td>cardiovascular / pulmonary, 2-d, doppler, echo...</td>\n",
              "    </tr>\n",
              "  </tbody>\n",
              "</table>\n",
              "</div>\n",
              "      <button class=\"colab-df-convert\" onclick=\"convertToInteractive('df-4b68f716-8255-42e1-9aa2-5da7f80c81ec')\"\n",
              "              title=\"Convert this dataframe to an interactive table.\"\n",
              "              style=\"display:none;\">\n",
              "        \n",
              "  <svg xmlns=\"http://www.w3.org/2000/svg\" height=\"24px\"viewBox=\"0 0 24 24\"\n",
              "       width=\"24px\">\n",
              "    <path d=\"M0 0h24v24H0V0z\" fill=\"none\"/>\n",
              "    <path d=\"M18.56 5.44l.94 2.06.94-2.06 2.06-.94-2.06-.94-.94-2.06-.94 2.06-2.06.94zm-11 1L8.5 8.5l.94-2.06 2.06-.94-2.06-.94L8.5 2.5l-.94 2.06-2.06.94zm10 10l.94 2.06.94-2.06 2.06-.94-2.06-.94-.94-2.06-.94 2.06-2.06.94z\"/><path d=\"M17.41 7.96l-1.37-1.37c-.4-.4-.92-.59-1.43-.59-.52 0-1.04.2-1.43.59L10.3 9.45l-7.72 7.72c-.78.78-.78 2.05 0 2.83L4 21.41c.39.39.9.59 1.41.59.51 0 1.02-.2 1.41-.59l7.78-7.78 2.81-2.81c.8-.78.8-2.07 0-2.86zM5.41 20L4 18.59l7.72-7.72 1.47 1.35L5.41 20z\"/>\n",
              "  </svg>\n",
              "      </button>\n",
              "      \n",
              "  <style>\n",
              "    .colab-df-container {\n",
              "      display:flex;\n",
              "      flex-wrap:wrap;\n",
              "      gap: 12px;\n",
              "    }\n",
              "\n",
              "    .colab-df-convert {\n",
              "      background-color: #E8F0FE;\n",
              "      border: none;\n",
              "      border-radius: 50%;\n",
              "      cursor: pointer;\n",
              "      display: none;\n",
              "      fill: #1967D2;\n",
              "      height: 32px;\n",
              "      padding: 0 0 0 0;\n",
              "      width: 32px;\n",
              "    }\n",
              "\n",
              "    .colab-df-convert:hover {\n",
              "      background-color: #E2EBFA;\n",
              "      box-shadow: 0px 1px 2px rgba(60, 64, 67, 0.3), 0px 1px 3px 1px rgba(60, 64, 67, 0.15);\n",
              "      fill: #174EA6;\n",
              "    }\n",
              "\n",
              "    [theme=dark] .colab-df-convert {\n",
              "      background-color: #3B4455;\n",
              "      fill: #D2E3FC;\n",
              "    }\n",
              "\n",
              "    [theme=dark] .colab-df-convert:hover {\n",
              "      background-color: #434B5C;\n",
              "      box-shadow: 0px 1px 3px 1px rgba(0, 0, 0, 0.15);\n",
              "      filter: drop-shadow(0px 1px 2px rgba(0, 0, 0, 0.3));\n",
              "      fill: #FFFFFF;\n",
              "    }\n",
              "  </style>\n",
              "\n",
              "      <script>\n",
              "        const buttonEl =\n",
              "          document.querySelector('#df-4b68f716-8255-42e1-9aa2-5da7f80c81ec button.colab-df-convert');\n",
              "        buttonEl.style.display =\n",
              "          google.colab.kernel.accessAllowed ? 'block' : 'none';\n",
              "\n",
              "        async function convertToInteractive(key) {\n",
              "          const element = document.querySelector('#df-4b68f716-8255-42e1-9aa2-5da7f80c81ec');\n",
              "          const dataTable =\n",
              "            await google.colab.kernel.invokeFunction('convertToInteractive',\n",
              "                                                     [key], {});\n",
              "          if (!dataTable) return;\n",
              "\n",
              "          const docLinkHtml = 'Like what you see? Visit the ' +\n",
              "            '<a target=\"_blank\" href=https://colab.research.google.com/notebooks/data_table.ipynb>data table notebook</a>'\n",
              "            + ' to learn more about interactive tables.';\n",
              "          element.innerHTML = '';\n",
              "          dataTable['output_type'] = 'display_data';\n",
              "          await google.colab.output.renderOutput(dataTable, element);\n",
              "          const docLink = document.createElement('div');\n",
              "          docLink.innerHTML = docLinkHtml;\n",
              "          element.appendChild(docLink);\n",
              "        }\n",
              "      </script>\n",
              "    </div>\n",
              "  </div>\n",
              "  "
            ]
          },
          "metadata": {},
          "execution_count": 27
        }
      ]
    },
    {
      "cell_type": "code",
      "source": [
        "df=df[['transcription','medical_specialty']]\n",
        "df.head()"
      ],
      "metadata": {
        "id": "zcdv6-zVh2Oe",
        "outputId": "2b22322f-3024-477f-bf31-a3da6ed33822",
        "colab": {
          "base_uri": "https://localhost:8080/",
          "height": 206
        }
      },
      "execution_count": 28,
      "outputs": [
        {
          "output_type": "execute_result",
          "data": {
            "text/plain": [
              "                                       transcription  \\\n",
              "0  SUBJECTIVE:,  This 23-year-old white female pr...   \n",
              "1  PAST MEDICAL HISTORY:, He has difficulty climb...   \n",
              "2  HISTORY OF PRESENT ILLNESS: , I have seen ABC ...   \n",
              "3  2-D M-MODE: , ,1.  Left atrial enlargement wit...   \n",
              "4  1.  The left ventricular cavity size and wall ...   \n",
              "\n",
              "             medical_specialty  \n",
              "0         Allergy / Immunology  \n",
              "1                   Bariatrics  \n",
              "2                   Bariatrics  \n",
              "3   Cardiovascular / Pulmonary  \n",
              "4   Cardiovascular / Pulmonary  "
            ],
            "text/html": [
              "\n",
              "  <div id=\"df-8ccfe656-d6f2-4385-ab48-118239a4ae10\">\n",
              "    <div class=\"colab-df-container\">\n",
              "      <div>\n",
              "<style scoped>\n",
              "    .dataframe tbody tr th:only-of-type {\n",
              "        vertical-align: middle;\n",
              "    }\n",
              "\n",
              "    .dataframe tbody tr th {\n",
              "        vertical-align: top;\n",
              "    }\n",
              "\n",
              "    .dataframe thead th {\n",
              "        text-align: right;\n",
              "    }\n",
              "</style>\n",
              "<table border=\"1\" class=\"dataframe\">\n",
              "  <thead>\n",
              "    <tr style=\"text-align: right;\">\n",
              "      <th></th>\n",
              "      <th>transcription</th>\n",
              "      <th>medical_specialty</th>\n",
              "    </tr>\n",
              "  </thead>\n",
              "  <tbody>\n",
              "    <tr>\n",
              "      <th>0</th>\n",
              "      <td>SUBJECTIVE:,  This 23-year-old white female pr...</td>\n",
              "      <td>Allergy / Immunology</td>\n",
              "    </tr>\n",
              "    <tr>\n",
              "      <th>1</th>\n",
              "      <td>PAST MEDICAL HISTORY:, He has difficulty climb...</td>\n",
              "      <td>Bariatrics</td>\n",
              "    </tr>\n",
              "    <tr>\n",
              "      <th>2</th>\n",
              "      <td>HISTORY OF PRESENT ILLNESS: , I have seen ABC ...</td>\n",
              "      <td>Bariatrics</td>\n",
              "    </tr>\n",
              "    <tr>\n",
              "      <th>3</th>\n",
              "      <td>2-D M-MODE: , ,1.  Left atrial enlargement wit...</td>\n",
              "      <td>Cardiovascular / Pulmonary</td>\n",
              "    </tr>\n",
              "    <tr>\n",
              "      <th>4</th>\n",
              "      <td>1.  The left ventricular cavity size and wall ...</td>\n",
              "      <td>Cardiovascular / Pulmonary</td>\n",
              "    </tr>\n",
              "  </tbody>\n",
              "</table>\n",
              "</div>\n",
              "      <button class=\"colab-df-convert\" onclick=\"convertToInteractive('df-8ccfe656-d6f2-4385-ab48-118239a4ae10')\"\n",
              "              title=\"Convert this dataframe to an interactive table.\"\n",
              "              style=\"display:none;\">\n",
              "        \n",
              "  <svg xmlns=\"http://www.w3.org/2000/svg\" height=\"24px\"viewBox=\"0 0 24 24\"\n",
              "       width=\"24px\">\n",
              "    <path d=\"M0 0h24v24H0V0z\" fill=\"none\"/>\n",
              "    <path d=\"M18.56 5.44l.94 2.06.94-2.06 2.06-.94-2.06-.94-.94-2.06-.94 2.06-2.06.94zm-11 1L8.5 8.5l.94-2.06 2.06-.94-2.06-.94L8.5 2.5l-.94 2.06-2.06.94zm10 10l.94 2.06.94-2.06 2.06-.94-2.06-.94-.94-2.06-.94 2.06-2.06.94z\"/><path d=\"M17.41 7.96l-1.37-1.37c-.4-.4-.92-.59-1.43-.59-.52 0-1.04.2-1.43.59L10.3 9.45l-7.72 7.72c-.78.78-.78 2.05 0 2.83L4 21.41c.39.39.9.59 1.41.59.51 0 1.02-.2 1.41-.59l7.78-7.78 2.81-2.81c.8-.78.8-2.07 0-2.86zM5.41 20L4 18.59l7.72-7.72 1.47 1.35L5.41 20z\"/>\n",
              "  </svg>\n",
              "      </button>\n",
              "      \n",
              "  <style>\n",
              "    .colab-df-container {\n",
              "      display:flex;\n",
              "      flex-wrap:wrap;\n",
              "      gap: 12px;\n",
              "    }\n",
              "\n",
              "    .colab-df-convert {\n",
              "      background-color: #E8F0FE;\n",
              "      border: none;\n",
              "      border-radius: 50%;\n",
              "      cursor: pointer;\n",
              "      display: none;\n",
              "      fill: #1967D2;\n",
              "      height: 32px;\n",
              "      padding: 0 0 0 0;\n",
              "      width: 32px;\n",
              "    }\n",
              "\n",
              "    .colab-df-convert:hover {\n",
              "      background-color: #E2EBFA;\n",
              "      box-shadow: 0px 1px 2px rgba(60, 64, 67, 0.3), 0px 1px 3px 1px rgba(60, 64, 67, 0.15);\n",
              "      fill: #174EA6;\n",
              "    }\n",
              "\n",
              "    [theme=dark] .colab-df-convert {\n",
              "      background-color: #3B4455;\n",
              "      fill: #D2E3FC;\n",
              "    }\n",
              "\n",
              "    [theme=dark] .colab-df-convert:hover {\n",
              "      background-color: #434B5C;\n",
              "      box-shadow: 0px 1px 3px 1px rgba(0, 0, 0, 0.15);\n",
              "      filter: drop-shadow(0px 1px 2px rgba(0, 0, 0, 0.3));\n",
              "      fill: #FFFFFF;\n",
              "    }\n",
              "  </style>\n",
              "\n",
              "      <script>\n",
              "        const buttonEl =\n",
              "          document.querySelector('#df-8ccfe656-d6f2-4385-ab48-118239a4ae10 button.colab-df-convert');\n",
              "        buttonEl.style.display =\n",
              "          google.colab.kernel.accessAllowed ? 'block' : 'none';\n",
              "\n",
              "        async function convertToInteractive(key) {\n",
              "          const element = document.querySelector('#df-8ccfe656-d6f2-4385-ab48-118239a4ae10');\n",
              "          const dataTable =\n",
              "            await google.colab.kernel.invokeFunction('convertToInteractive',\n",
              "                                                     [key], {});\n",
              "          if (!dataTable) return;\n",
              "\n",
              "          const docLinkHtml = 'Like what you see? Visit the ' +\n",
              "            '<a target=\"_blank\" href=https://colab.research.google.com/notebooks/data_table.ipynb>data table notebook</a>'\n",
              "            + ' to learn more about interactive tables.';\n",
              "          element.innerHTML = '';\n",
              "          dataTable['output_type'] = 'display_data';\n",
              "          await google.colab.output.renderOutput(dataTable, element);\n",
              "          const docLink = document.createElement('div');\n",
              "          docLink.innerHTML = docLinkHtml;\n",
              "          element.appendChild(docLink);\n",
              "        }\n",
              "      </script>\n",
              "    </div>\n",
              "  </div>\n",
              "  "
            ]
          },
          "metadata": {},
          "execution_count": 28
        }
      ]
    },
    {
      "cell_type": "code",
      "source": [
        "df = df[df['medical_specialty'] != ' Surgery']\n",
        "df = df[df['medical_specialty'] != ' SOAP / Chart / Progress Notes']\n",
        "df = df[df['medical_specialty'] != ' Emergency Room Reports']\n",
        "df = df[df['medical_specialty'] != ' Discharge Summary']\n",
        "df = df[df['medical_specialty'] != ' Office Notes']\n",
        "df = df[df['medical_specialty'] != ' General Medicine']\n",
        "df = df[df['medical_specialty'] != ' Pain Management']"
      ],
      "metadata": {
        "id": "mgJJWPAkh-Oa"
      },
      "execution_count": 29,
      "outputs": []
    },
    {
      "cell_type": "code",
      "source": [
        "df.isna().sum()"
      ],
      "metadata": {
        "id": "ZM3PUNKeiCjQ",
        "outputId": "6ae415dd-346a-4d77-be4a-bbd850248795",
        "colab": {
          "base_uri": "https://localhost:8080/"
        }
      },
      "execution_count": 30,
      "outputs": [
        {
          "output_type": "execute_result",
          "data": {
            "text/plain": [
              "transcription        16\n",
              "medical_specialty     0\n",
              "dtype: int64"
            ]
          },
          "metadata": {},
          "execution_count": 30
        }
      ]
    },
    {
      "cell_type": "code",
      "source": [
        "df.dropna(axis=0,inplace=True)"
      ],
      "metadata": {
        "id": "S6LzhrP2iNFU"
      },
      "execution_count": 31,
      "outputs": []
    },
    {
      "cell_type": "code",
      "source": [
        "counts = df['medical_specialty'].value_counts()\n",
        "\n",
        "df = df[~df['medical_specialty'].isin(counts[counts < 240].index)]\n",
        "df.head()"
      ],
      "metadata": {
        "id": "UEPGdbzzi35h",
        "outputId": "ac6bb263-9771-4b85-bd5f-41468081e30d",
        "colab": {
          "base_uri": "https://localhost:8080/",
          "height": 206
        }
      },
      "execution_count": 32,
      "outputs": [
        {
          "output_type": "execute_result",
          "data": {
            "text/plain": [
              "                                        transcription  \\\n",
              "3   2-D M-MODE: , ,1.  Left atrial enlargement wit...   \n",
              "4   1.  The left ventricular cavity size and wall ...   \n",
              "7   2-D ECHOCARDIOGRAM,Multiple views of the heart...   \n",
              "9   DESCRIPTION:,1.  Normal cardiac chambers size....   \n",
              "11  2-D STUDY,1. Mild aortic stenosis, widely calc...   \n",
              "\n",
              "              medical_specialty  \n",
              "3    Cardiovascular / Pulmonary  \n",
              "4    Cardiovascular / Pulmonary  \n",
              "7    Cardiovascular / Pulmonary  \n",
              "9    Cardiovascular / Pulmonary  \n",
              "11   Cardiovascular / Pulmonary  "
            ],
            "text/html": [
              "\n",
              "  <div id=\"df-54523ba6-f45a-4712-8fd2-73218968bf13\">\n",
              "    <div class=\"colab-df-container\">\n",
              "      <div>\n",
              "<style scoped>\n",
              "    .dataframe tbody tr th:only-of-type {\n",
              "        vertical-align: middle;\n",
              "    }\n",
              "\n",
              "    .dataframe tbody tr th {\n",
              "        vertical-align: top;\n",
              "    }\n",
              "\n",
              "    .dataframe thead th {\n",
              "        text-align: right;\n",
              "    }\n",
              "</style>\n",
              "<table border=\"1\" class=\"dataframe\">\n",
              "  <thead>\n",
              "    <tr style=\"text-align: right;\">\n",
              "      <th></th>\n",
              "      <th>transcription</th>\n",
              "      <th>medical_specialty</th>\n",
              "    </tr>\n",
              "  </thead>\n",
              "  <tbody>\n",
              "    <tr>\n",
              "      <th>3</th>\n",
              "      <td>2-D M-MODE: , ,1.  Left atrial enlargement wit...</td>\n",
              "      <td>Cardiovascular / Pulmonary</td>\n",
              "    </tr>\n",
              "    <tr>\n",
              "      <th>4</th>\n",
              "      <td>1.  The left ventricular cavity size and wall ...</td>\n",
              "      <td>Cardiovascular / Pulmonary</td>\n",
              "    </tr>\n",
              "    <tr>\n",
              "      <th>7</th>\n",
              "      <td>2-D ECHOCARDIOGRAM,Multiple views of the heart...</td>\n",
              "      <td>Cardiovascular / Pulmonary</td>\n",
              "    </tr>\n",
              "    <tr>\n",
              "      <th>9</th>\n",
              "      <td>DESCRIPTION:,1.  Normal cardiac chambers size....</td>\n",
              "      <td>Cardiovascular / Pulmonary</td>\n",
              "    </tr>\n",
              "    <tr>\n",
              "      <th>11</th>\n",
              "      <td>2-D STUDY,1. Mild aortic stenosis, widely calc...</td>\n",
              "      <td>Cardiovascular / Pulmonary</td>\n",
              "    </tr>\n",
              "  </tbody>\n",
              "</table>\n",
              "</div>\n",
              "      <button class=\"colab-df-convert\" onclick=\"convertToInteractive('df-54523ba6-f45a-4712-8fd2-73218968bf13')\"\n",
              "              title=\"Convert this dataframe to an interactive table.\"\n",
              "              style=\"display:none;\">\n",
              "        \n",
              "  <svg xmlns=\"http://www.w3.org/2000/svg\" height=\"24px\"viewBox=\"0 0 24 24\"\n",
              "       width=\"24px\">\n",
              "    <path d=\"M0 0h24v24H0V0z\" fill=\"none\"/>\n",
              "    <path d=\"M18.56 5.44l.94 2.06.94-2.06 2.06-.94-2.06-.94-.94-2.06-.94 2.06-2.06.94zm-11 1L8.5 8.5l.94-2.06 2.06-.94-2.06-.94L8.5 2.5l-.94 2.06-2.06.94zm10 10l.94 2.06.94-2.06 2.06-.94-2.06-.94-.94-2.06-.94 2.06-2.06.94z\"/><path d=\"M17.41 7.96l-1.37-1.37c-.4-.4-.92-.59-1.43-.59-.52 0-1.04.2-1.43.59L10.3 9.45l-7.72 7.72c-.78.78-.78 2.05 0 2.83L4 21.41c.39.39.9.59 1.41.59.51 0 1.02-.2 1.41-.59l7.78-7.78 2.81-2.81c.8-.78.8-2.07 0-2.86zM5.41 20L4 18.59l7.72-7.72 1.47 1.35L5.41 20z\"/>\n",
              "  </svg>\n",
              "      </button>\n",
              "      \n",
              "  <style>\n",
              "    .colab-df-container {\n",
              "      display:flex;\n",
              "      flex-wrap:wrap;\n",
              "      gap: 12px;\n",
              "    }\n",
              "\n",
              "    .colab-df-convert {\n",
              "      background-color: #E8F0FE;\n",
              "      border: none;\n",
              "      border-radius: 50%;\n",
              "      cursor: pointer;\n",
              "      display: none;\n",
              "      fill: #1967D2;\n",
              "      height: 32px;\n",
              "      padding: 0 0 0 0;\n",
              "      width: 32px;\n",
              "    }\n",
              "\n",
              "    .colab-df-convert:hover {\n",
              "      background-color: #E2EBFA;\n",
              "      box-shadow: 0px 1px 2px rgba(60, 64, 67, 0.3), 0px 1px 3px 1px rgba(60, 64, 67, 0.15);\n",
              "      fill: #174EA6;\n",
              "    }\n",
              "\n",
              "    [theme=dark] .colab-df-convert {\n",
              "      background-color: #3B4455;\n",
              "      fill: #D2E3FC;\n",
              "    }\n",
              "\n",
              "    [theme=dark] .colab-df-convert:hover {\n",
              "      background-color: #434B5C;\n",
              "      box-shadow: 0px 1px 3px 1px rgba(0, 0, 0, 0.15);\n",
              "      filter: drop-shadow(0px 1px 2px rgba(0, 0, 0, 0.3));\n",
              "      fill: #FFFFFF;\n",
              "    }\n",
              "  </style>\n",
              "\n",
              "      <script>\n",
              "        const buttonEl =\n",
              "          document.querySelector('#df-54523ba6-f45a-4712-8fd2-73218968bf13 button.colab-df-convert');\n",
              "        buttonEl.style.display =\n",
              "          google.colab.kernel.accessAllowed ? 'block' : 'none';\n",
              "\n",
              "        async function convertToInteractive(key) {\n",
              "          const element = document.querySelector('#df-54523ba6-f45a-4712-8fd2-73218968bf13');\n",
              "          const dataTable =\n",
              "            await google.colab.kernel.invokeFunction('convertToInteractive',\n",
              "                                                     [key], {});\n",
              "          if (!dataTable) return;\n",
              "\n",
              "          const docLinkHtml = 'Like what you see? Visit the ' +\n",
              "            '<a target=\"_blank\" href=https://colab.research.google.com/notebooks/data_table.ipynb>data table notebook</a>'\n",
              "            + ' to learn more about interactive tables.';\n",
              "          element.innerHTML = '';\n",
              "          dataTable['output_type'] = 'display_data';\n",
              "          await google.colab.output.renderOutput(dataTable, element);\n",
              "          const docLink = document.createElement('div');\n",
              "          docLink.innerHTML = docLinkHtml;\n",
              "          element.appendChild(docLink);\n",
              "        }\n",
              "      </script>\n",
              "    </div>\n",
              "  </div>\n",
              "  "
            ]
          },
          "metadata": {},
          "execution_count": 32
        }
      ]
    },
    {
      "cell_type": "code",
      "source": [
        "special_character_remover = re.compile('[/(){}\\[\\]\\|@,;]')\n",
        "extra_symbol_remover = re.compile('[^0-9a-z #+_]')\n",
        "STOPWORDS = set(stopwords.words('english'))"
      ],
      "metadata": {
        "id": "J3VXvZxxiSiB"
      },
      "execution_count": 33,
      "outputs": []
    },
    {
      "cell_type": "code",
      "source": [
        "def clean_text(text):\n",
        "    text = text.lower()\n",
        "    text = special_character_remover.sub(' ',text)\n",
        "    text = extra_symbol_remover.sub('',text)\n",
        "    text = ' '.join(word for word in text.split() if word not in STOPWORDS)\n",
        "    return text\n",
        "\n",
        "def lemmatize_text(text):\n",
        "    wordlist=[]\n",
        "    lemmatizer = WordNetLemmatizer() \n",
        "    sentences=sent_tokenize(text)\n",
        "    \n",
        "    for sentence in sentences:\n",
        "        words=word_tokenize(sentence)\n",
        "        for word in words:\n",
        "            wordlist.append(lemmatizer.lemmatize(word))    \n",
        "    return ' '.join(wordlist) "
      ],
      "metadata": {
        "id": "RK-gK9aqjEOk"
      },
      "execution_count": 34,
      "outputs": []
    },
    {
      "cell_type": "code",
      "source": [
        "nltk.download('punkt')\n",
        "nltk.download('wordnet')\n",
        "nltk.download('omw-1.4')"
      ],
      "metadata": {
        "id": "gd6dD7yKjJ_W",
        "outputId": "8437f6fc-dc4b-471d-f514-e20f4ce3bf1e",
        "colab": {
          "base_uri": "https://localhost:8080/"
        }
      },
      "execution_count": 35,
      "outputs": [
        {
          "output_type": "stream",
          "name": "stderr",
          "text": [
            "[nltk_data] Downloading package punkt to /root/nltk_data...\n",
            "[nltk_data]   Package punkt is already up-to-date!\n",
            "[nltk_data] Downloading package wordnet to /root/nltk_data...\n",
            "[nltk_data]   Package wordnet is already up-to-date!\n",
            "[nltk_data] Downloading package omw-1.4 to /root/nltk_data...\n",
            "[nltk_data]   Package omw-1.4 is already up-to-date!\n"
          ]
        },
        {
          "output_type": "execute_result",
          "data": {
            "text/plain": [
              "True"
            ]
          },
          "metadata": {},
          "execution_count": 35
        }
      ]
    },
    {
      "cell_type": "code",
      "source": [
        "df['transcription'] = df['transcription'].apply(clean_text)\n",
        "df['transcription'] = df['transcription'].apply(lemmatize_text)"
      ],
      "metadata": {
        "id": "LOR2a6hujRUk"
      },
      "execution_count": 36,
      "outputs": []
    },
    {
      "cell_type": "code",
      "source": [
        "vectorizer = TfidfVectorizer(analyzer='word', stop_words='english',ngram_range=(1,3), max_df=0.75,min_df=5, use_idf=True, smooth_idf=True,sublinear_tf=True, max_features=1000)\n",
        "tfIdfMat  = vectorizer.fit_transform(df['transcription'].tolist() )\n",
        "feature_names = sorted(vectorizer.get_feature_names())\n",
        "del feature_names[0:35]\n",
        "print(feature_names)"
      ],
      "metadata": {
        "id": "SFqCosRxkASm",
        "outputId": "a4882cee-2b35-4fef-dfd5-af50e1b75a0e",
        "colab": {
          "base_uri": "https://localhost:8080/"
        }
      },
      "execution_count": 37,
      "outputs": [
        {
          "output_type": "stream",
          "name": "stdout",
          "text": [
            "['60', '6french', '70', '75', '80', '90', '92', '93', '95', '96', 'abc', 'abcd', 'abdomen', 'abdomen soft', 'abdomen soft nontender', 'abdominal', 'abdominal pain', 'able', 'abnormal', 'abnormality', 'abuse', 'according', 'achieved', 'active', 'activity', 'acute', 'acute distress', 'addition', 'additional', 'adenopathy', 'adequate', 'administered', 'admission', 'admitted', 'advanced', 'affect', 'age', 'ago', 'air', 'airway', 'alcohol', 'alert', 'alert oriented', 'allergic', 'allergy', 'allergy known', 'allergy known drug', 'anemia', 'anesthesia', 'anesthesia general', 'anesthetic', 'angiogram', 'angiography', 'ankle', 'anterior', 'anterior descending', 'antibiotic', 'anxiety', 'aorta', 'aortic', 'aortic valve', 'ap', 'apparently', 'appear', 'appearance', 'appeared', 'appears', 'applied', 'appropriate', 'approximately', 'area', 'arm', 'arterial', 'artery', 'artery disease', 'arthritis', 'asked', 'aspect', 'aspirin', 'assessment', 'associated', 'atraumatic', 'atrial', 'atrial fibrillation', 'atrium', 'attention', 'auscultation', 'axis', 'balloon', 'base', 'based', 'beat', 'bed', 'began', 'benefit', 'benign', 'better', 'biceps', 'bid', 'bilateral', 'bilaterally', 'biopsy', 'bladder', 'blade', 'bleeding', 'block', 'blood', 'blood loss', 'blood pressure', 'body', 'bone', 'bony', 'bowel', 'bowel sound', 'brain', 'branch', 'breast', 'breath', 'brother', 'brought', 'bruits', 'bun', 'bypass', 'c5c6', 'calcification', 'calcium', 'came', 'canal', 'cancer', 'capsule', 'cardiac', 'cardiovascular', 'care', 'carefully', 'carotid', 'carotid artery', 'carpal', 'carpal tunnel', 'carried', 'case', 'catheter', 'catheterization', 'cc', 'cell', 'central', 'cervical', 'change', 'chart', 'check', 'chest', 'chest pain', 'chest xray', 'chief', 'chief complaint', 'child', 'chill', 'chronic', 'circumflex', 'clear', 'clear auscultation', 'clinic', 'clinical', 'closed', 'closure', 'clubbing', 'cm', 'collateral', 'come', 'common', 'complaint', 'complete', 'completed', 'complex', 'complication', 'component', 'compression', 'concern', 'condition', 'confirmed', 'consent', 'consistent', 'consultation', 'continue', 'continued', 'contrast', 'control', 'cord', 'coronary', 'coronary artery', 'coronary artery disease', 'cough', 'coumadin', 'count', 'course', 'cranial', 'cranial nerve', 'creatinine', 'csf', 'ct', 'ct scan', 'cuff', 'culture', 'current', 'current medication', 'currently', 'cut', 'cyanosis', 'daily', 'data', 'daughter', 'day', 'decompression', 'decreased', 'deep', 'defect', 'deficit', 'deformity', 'degenerative', 'degree', 'demonstrated', 'denied', 'denies', 'department', 'depression', 'descending', 'descending artery', 'described', 'description', 'developed', 'device', 'diabetes', 'diabetes mellitus', 'diagnosed', 'diagnosis', 'diagnostic', 'diagonal', 'diarrhea', 'died', 'diet', 'difficulty', 'diffuse', 'direct', 'directed', 'disc', 'discharge', 'discharged', 'discomfort', 'discussed', 'discussed patient', 'disease', 'disk', 'disorder', 'dissected', 'dissection', 'distal', 'distally', 'distress', 'dorsal', 'dose', 'dr', 'drain', 'drainage', 'draped', 'draped usual', 'draped usual sterile', 'dressing', 'dressing applied', 'drink', 'drug', 'drug allergy', 'drug use', 'dry', 'dyspnea', 'ear', 'echocardiogram', 'edema', 'edge', 'effect', 'effusion', 'ejection', 'ejection fraction', 'ekg', 'elbow', 'elevated', 'emergency', 'emergency room', 'end', 'endotracheal', 'enlarged', 'episode', 'equal', 'erythema', 'estimated', 'estimated blood', 'estimated blood loss', 'evaluated', 'evaluation', 'evidence', 'exam', 'examination', 'examination general', 'examination vital', 'examination vital sign', 'excellent', 'exercise', 'explained', 'extending', 'extension', 'extensor', 'external', 'extraocular', 'extremity', 'eye', 'facet', 'facial', 'factor', 'failure', 'fall', 'family', 'family history', 'fascia', 'fashion', 'father', 'fatigue', 'feel', 'felt', 'female', 'femoral', 'femoral artery', 'fever', 'fever chill', 'fibrillation', 'field', 'fifth', 'finding', 'finger', 'fixation', 'flexion', 'flexor', 'flow', 'fluid', 'flushed', 'focal', 'follow', 'followed', 'following', 'followup', 'food', 'foot', 'foramen', 'fraction', 'fracture', 'fragment', 'free', 'function', 'fusion', 'gait', 'gallop', 'general', 'gentleman', 'gi', 'given', 'glucose', 'going', 'good', 'grade', 'graft', 'greater', 'grossly', 'guide', 'guidewire', 'hand', 'head', 'headache', 'health', 'healthy', 'hearing', 'heart', 'heart failure', 'heart rate', 'heart regular', 'heent', 'height', 'help', 'hemoglobin', 'hemostasis', 'hernia', 'high', 'hip', 'history', 'history hypertension', 'history patient', 'history present', 'history present illness', 'history significant', 'home', 'hospital', 'hour', 'husband', 'hypertension', 'identified', 'ii', 'illicit', 'illicit drug', 'illness', 'illness patient', 'image', 'imaging', 'impression', 'improved', 'improvement', 'inch', 'incision', 'include', 'including', 'increase', 'increased', 'indication', 'infarction', 'infection', 'inferior', 'informed', 'informed consent', 'initial', 'initially', 'injected', 'injection', 'injury', 'inr', 'inserted', 'insertion', 'intact', 'internal', 'interrupted', 'interval', 'intervention', 'intraoperative', 'involving', 'irrigated', 'issue', 'iv', 'joint', 'kidney', 'knee', 'known', 'known drug', 'known drug allergy', 'l4l5', 'l5', 'l5s1', 'lab', 'laboratory', 'laboratory data', 'lad', 'large', 'later', 'lateral', 'laterally', 'layer', 'le', 'lead', 'left', 'left anterior', 'left anterior descending', 'left knee', 'left lower', 'left main', 'left upper', 'left ventricle', 'left ventricular', 'leg', 'length', 'lesion', 'level', 'lidocaine', 'life', 'ligament', 'light', 'like', 'likely', 'limit', 'limited', 'line', 'little', 'liver', 'lobe', 'local', 'long', 'longus', 'loss', 'low', 'lower', 'lower extremity', 'lumbar', 'lumbar spine', 'lung', 'lung clear', 'lung clear auscultation', 'lv', 'lymph', 'lymph node', 'lymphadenopathy', 'main', 'make', 'male', 'management', 'manner', 'marcaine', 'marked', 'married', 'mass', 'material', 'measure', 'measuring', 'medial', 'medical', 'medical history', 'medication', 'mellitus', 'membrane', 'memory', 'mental', 'mentioned', 'metatarsal', 'mg', 'mg daily', 'mg day', 'mg po', 'mg po daily', 'mid', 'middle', 'midline', 'mild', 'mildly', 'minimal', 'minute', 'mitral', 'ml', 'mm', 'mmhg', 'moderate', 'mom', 'month', 'mood', 'morning', 'mother', 'motion', 'motor', 'movement', 'mr', 'mri', 'multiple', 'murmur', 'muscle', 'musculoskeletal', 'myocardial', 'narrowing', 'nasal', 'nausea', 'nausea vomiting', 'neck', 'neck supple', 'need', 'needed', 'needle', 'negative', 'nerve', 'nerve root', 'neurologic', 'neurological', 'new', 'night', 'node', 'noncontributory', 'nontender', 'normal', 'normal limit', 'normocephalic', 'nose', 'note', 'noted', 'numbness', 'obstruction', 'obstructive', 'obtained', 'obvious', 'occasional', 'office', 'old', 'onset', 'open', 'operating', 'operating room', 'operation', 'operative', 'oral', 'order', 'oriented', 'osteophyte', 'osteotomy', 'outpatient', 'oxygen', 'pacemaker', 'pain', 'palpable', 'palpation', 'palpitation', 'partial', 'passed', 'past', 'past medical', 'past medical history', 'past surgical', 'past surgical history', 'patella', 'patent', 'pathology', 'patient brought', 'patient denies', 'patient given', 'patient state', 'patient taken', 'patient tolerated', 'patient tolerated procedure', 'pelvis', 'performed', 'perfusion', 'pericardial', 'period', 'peripheral', 'physical', 'physical examination', 'physical examination general', 'physical examination vital', 'physical therapy', 'physician', 'place', 'placed', 'placement', 'plan', 'plantar', 'plaque', 'plate', 'platelet', 'pleasant', 'pleural', 'pneumonia', 'po', 'po daily', 'point', 'poor', 'portal', 'portion', 'position', 'positioned', 'positive', 'possible', 'post', 'posterior', 'postoperative', 'postoperative diagnosis', 'potassium', 'pound', 'preoperative', 'preoperative diagnosis', 'prepped', 'prepped draped', 'prepped draped usual', 'prescription', 'present', 'present illness', 'present illness patient', 'presentation', 'presented', 'pressure', 'previous', 'previously', 'primary', 'prior', 'prn', 'probably', 'problem', 'procedure', 'procedure patient', 'procedure performed', 'proceed', 'process', 'prolene', 'protein', 'protocol', 'proximal', 'proximally', 'psychiatric', 'pulmonary', 'pulmonary artery', 'pulse', 'pupil', 'pupil equal', 'qd', 'quadrant', 'question', 'quite', 'radial', 'range', 'range motion', 'rash', 'rate', 'rate rhythm', 'reactive', 'reactive light', 'reason', 'received', 'recent', 'recently', 'recommendation', 'recommended', 'recovery', 'recovery room', 'rectal', 'recurrent', 'reduction', 'referred', 'reflex', 'regarding', 'region', 'regular', 'regular rate', 'regular rate rhythm', 'regurgitation', 'related', 'release', 'released', 'removal', 'removed', 'renal', 'repair', 'repeat', 'replacement', 'report', 'reported', 'resection', 'residual', 'resolved', 'respiration', 'respiratory', 'respiratory rate', 'response', 'rest', 'result', 'return', 'returned', 'revealed', 'reveals', 'review', 'reviewed', 'rhythm', 'right', 'right coronary', 'right coronary artery', 'right femoral', 'right foot', 'right knee', 'right lower', 'right upper', 'risk', 'risk benefit', 'room', 'root', 'rotator', 'rotator cuff', 'round', 'rub', 'running', 's1', 's1 s2', 's2', 'saline', 'satisfactory', 'saturation', 'saw', 'scan', 'school', 'screw', 'second', 'secondary', 'sedation', 'seen', 'segment', 'seizure', 'sensation', 'sensory', 'sent', 'series', 'severe', 'sharp', 'sheath', 'short', 'shortness', 'shortness breath', 'shoulder', 'showed', 'shunt', 'sign', 'signal', 'significant', 'single', 'sinus', 'sinus rhythm', 'site', 'size', 'skin', 'sleep', 'slightly', 'small', 'smoke', 'smoking', 'social', 'social history', 'social history patient', 'soft', 'soft nontender', 'soft tissue', 'solution', 'somewhat', 'sound', 'space', 'specimen', 'speech', 'spinal', 'spine', 'stable', 'stable condition', 'standard', 'started', 'state', 'stated', 'status', 'status post', 'stenosis', 'stent', 'sterile', 'sterile fashion', 'stool', 'strength', 'stress', 'stroke', 'structure', 'study', 'subcutaneous', 'subcutaneous tissue', 'subsequently', 'superficial', 'superior', 'supine', 'supine position', 'supple', 'surface', 'surgery', 'surgical', 'surgical history', 'suture', 'swelling', 'symptom', 'syndrome', 'systolic', 'table', 'taken', 'taken operating', 'taking', 'tear', 'technique', 'temperature', 'tenderness', 'tendon', 'test', 'testing', 'therapy', 'thickening', 'think', 'thought', 'throat', 'thyroid', 'tibial', 'time', 'tissue', 'tobacco', 'today', 'toe', 'tolerated', 'tolerated procedure', 'tone', 'tongue', 'total', 'tourniquet', 'trachea', 'transferred', 'transverse', 'treated', 'treatment', 'trial', 'tricuspid', 'tube', 'tumor', 'tunnel', 'twice', 'type', 'ulnar', 'ultrasound', 'unable', 'underwent', 'unit', 'unknown', 'unremarkable', 'upper', 'upper extremity', 'upper lobe', 'urinary', 'urine', 'use', 'used', 'using', 'usual', 'usual sterile', 'utilizing', 'valve', 'vascular', 'vein', 'venous', 'ventricle', 'ventricular', 'vertebral', 'vertebral body', 'vessel', 'vicryl', 'view', 'vision', 'visit', 'visual', 'visualized', 'vital', 'vital sign', 'vitamin', 'volume', 'vomiting', 'walk', 'walking', 'wall', 'weakness', 'week', 'weight', 'went', 'white', 'wife', 'wire', 'woman', 'work', 'workup', 'worse', 'wound', 'wrist', 'xray', 'xrays', 'xyz', 'year', 'year ago']\n"
          ]
        },
        {
          "output_type": "stream",
          "name": "stderr",
          "text": [
            "/usr/local/lib/python3.8/dist-packages/sklearn/utils/deprecation.py:87: FutureWarning: Function get_feature_names is deprecated; get_feature_names is deprecated in 1.0 and will be removed in 1.2. Please use get_feature_names_out instead.\n",
            "  warnings.warn(msg, category=FutureWarning)\n"
          ]
        }
      ]
    },
    {
      "cell_type": "code",
      "source": [
        "#Principal component analysis (PCA).\n",
        "pca = PCA(n_components=0.95)\n",
        "tfIdfMat_reduced = pca.fit_transform(tfIdfMat.toarray())\n",
        "labels = df['medical_specialty'].tolist()\n",
        "category_list = df.medical_specialty.unique()"
      ],
      "metadata": {
        "id": "82bUvxtCkHPC"
      },
      "execution_count": 38,
      "outputs": []
    },
    {
      "cell_type": "code",
      "source": [
        "print(df['medical_specialty'])"
      ],
      "metadata": {
        "id": "m2RyP4N1kMRO",
        "outputId": "5c0ce69d-8a47-474b-cedb-9b94b1ef19d0",
        "colab": {
          "base_uri": "https://localhost:8080/"
        }
      },
      "execution_count": 39,
      "outputs": [
        {
          "output_type": "stream",
          "name": "stdout",
          "text": [
            "3        Cardiovascular / Pulmonary\n",
            "4        Cardiovascular / Pulmonary\n",
            "7        Cardiovascular / Pulmonary\n",
            "9        Cardiovascular / Pulmonary\n",
            "11       Cardiovascular / Pulmonary\n",
            "                   ...             \n",
            "4972     Cardiovascular / Pulmonary\n",
            "4973     Cardiovascular / Pulmonary\n",
            "4974     Cardiovascular / Pulmonary\n",
            "4975     Cardiovascular / Pulmonary\n",
            "4976     Cardiovascular / Pulmonary\n",
            "Name: medical_specialty, Length: 1515, dtype: object\n"
          ]
        }
      ]
    },
    {
      "cell_type": "code",
      "execution_count": 40,
      "metadata": {
        "id": "8ukmfw3ahQ8g"
      },
      "outputs": [],
      "source": [
        "def remove_emoji(text):\n",
        "    emoji_pattern = re.compile(\"[\"\n",
        "                           u\"\\U0001F600-\\U0001F64F\"  # emoticons\n",
        "                           u\"\\U0001F300-\\U0001F5FF\"  # symbols & pictographs\n",
        "                           u\"\\U0001F680-\\U0001F6FF\"  # transport & map symbols\n",
        "                           u\"\\U0001F1E0-\\U0001F1FF\"  # flags (iOS)\n",
        "                           u\"\\U00002702-\\U000027B0\"\n",
        "                           u\"\\U000024C2-\\U0001F251\"\n",
        "                           \"]+\", flags=re.UNICODE)\n",
        "    return emoji_pattern.sub(r'', text)\n",
        "\n",
        "def remove_url(text): \n",
        "    url_pattern  = re.compile('http[s]?://(?:[a-zA-Z]|[0-9]|[$-_@.&+]|[!*\\(\\),]|(?:%[0-9a-fA-F][0-9a-fA-F]))+')\n",
        "    return url_pattern.sub(r'', text)\n",
        " # converting return value from list to string\n",
        "\n",
        "\n",
        "\n",
        "def clean_text(text ): \n",
        "    delete_dict = {sp_character: '' for sp_character in string.punctuation} \n",
        "    delete_dict[' '] = ' ' \n",
        "    table = str.maketrans(delete_dict)\n",
        "    text1 = text.translate(table)\n",
        "    #print('cleaned:'+text1)\n",
        "    textArr= text1.split()\n",
        "    text2 = ' '.join([w for w in textArr if ( not w.isdigit() and  ( not w.isdigit() and len(w)>2))]) \n",
        "    \n",
        "    return text2.lower()\n",
        "\n"
      ]
    },
    {
      "cell_type": "markdown",
      "metadata": {
        "id": "WWW42avrhQ8k"
      },
      "source": [
        "Let us split the training data into train and validation datasets\n",
        "Let us convert our training,validation and test data into the format accepted by tensorflow"
      ]
    },
    {
      "cell_type": "markdown",
      "metadata": {
        "id": "dIca3VkzhQ8k"
      },
      "source": [
        "***\n",
        "https://www.tensorflow.org/api_docs/python/tf/keras/preprocessing/text/Tokenizer\n",
        "<br>\n",
        "This class allows to vectorize a text corpus, by turning each text into either a sequence of integers (each integer being the index of a token in a dictionary) or into a vector where the coefficient for each token could be binary, based on word count, based on tf-idf...\n",
        "***"
      ]
    },
    {
      "cell_type": "code",
      "execution_count": 41,
      "metadata": {
        "id": "Zhed1YWqhQ8l",
        "outputId": "3e0e9974-9412-41af-b944-f4a73a8c86c4",
        "colab": {
          "base_uri": "https://localhost:8080/"
        }
      },
      "outputs": [
        {
          "output_type": "stream",
          "name": "stdout",
          "text": [
            "[[1, 1, 1, 1]]\n"
          ]
        }
      ],
      "source": [
        "num_words = 20000\n",
        "\n",
        "tokenizer = Tokenizer(num_words=num_words,oov_token=\"unk\")\n",
        "tokenizer.fit_on_texts(df['medical_specialty'].tolist())\n",
        "print(str(tokenizer.texts_to_sequences(['xyz how are you'])))\n",
        "\n",
        "   \n"
      ]
    },
    {
      "cell_type": "code",
      "source": [
        "X_train, X_valid, y_train, y_valid = train_test_split(df['transcription'].tolist(), df['medical_specialty'].tolist(),  stratify = df['medical_specialty'].tolist(), test_size=0.1,random_state=0)\n",
        "x_train=np.array(tokenizer.texts_to_sequences(X_train))\n",
        "x_valid =np.array(tokenizer.texts_to_sequences(X_valid))\n",
        "#This class allows to vectorize a text corpus, by turning each text \n",
        "#into either a sequence of integers\n",
        "x_test =np.array(tokenizer.texts_to_sequences(df['transcription'].tolist()))\n",
        "x_train = pad_sequences(x_train, padding='post', maxlen=40)\n",
        "x_valid = pad_sequences(x_valid, padding='post', maxlen=40)\n",
        "x_test = pad_sequences(x_test, padding='post', maxlen=40)\n",
        "le = LabelEncoder() #Convert text category into numbers\n",
        "train_labels = le.fit_transform(y_train)\n",
        "train_labels = np.asarray( tf.keras.utils.to_categorical(train_labels))\n",
        "#convert to categorical values 1 0 0 0, ...\n",
        "valid_labels = le.transform(y_valid)\n",
        "valid_labels = np.asarray( tf.keras.utils.to_categorical(valid_labels))\n",
        "test_labels = le.transform(df['medical_specialty'].tolist())\n",
        "test_labels = np.asarray(tf.keras.utils.to_categorical(test_labels))\n",
        "list(le.classes_)\n",
        "train_ds = tf.data.Dataset.from_tensor_slices((x_train,train_labels))\n",
        "#creating tensorflow dataset by concatenating sequences and perspective labels \n",
        "valid_ds = tf.data.Dataset.from_tensor_slices((x_valid,valid_labels))\n",
        "test_ds = tf.data.Dataset.from_tensor_slices((df['medical_specialty'],test_labels))\n"
      ],
      "metadata": {
        "id": "VXTq76SfkoCY",
        "outputId": "4cf97d48-5be9-4834-b767-c83c9d851dd8",
        "colab": {
          "base_uri": "https://localhost:8080/"
        }
      },
      "execution_count": 42,
      "outputs": [
        {
          "output_type": "stream",
          "name": "stderr",
          "text": [
            "<ipython-input-42-d9d6b96ca4c0>:2: VisibleDeprecationWarning: Creating an ndarray from ragged nested sequences (which is a list-or-tuple of lists-or-tuples-or ndarrays with different lengths or shapes) is deprecated. If you meant to do this, you must specify 'dtype=object' when creating the ndarray.\n",
            "  x_train=np.array(tokenizer.texts_to_sequences(X_train))\n",
            "<ipython-input-42-d9d6b96ca4c0>:3: VisibleDeprecationWarning: Creating an ndarray from ragged nested sequences (which is a list-or-tuple of lists-or-tuples-or ndarrays with different lengths or shapes) is deprecated. If you meant to do this, you must specify 'dtype=object' when creating the ndarray.\n",
            "  x_valid =np.array(tokenizer.texts_to_sequences(X_valid))\n",
            "<ipython-input-42-d9d6b96ca4c0>:6: VisibleDeprecationWarning: Creating an ndarray from ragged nested sequences (which is a list-or-tuple of lists-or-tuples-or ndarrays with different lengths or shapes) is deprecated. If you meant to do this, you must specify 'dtype=object' when creating the ndarray.\n",
            "  x_test =np.array(tokenizer.texts_to_sequences(df['transcription'].tolist()))\n"
          ]
        }
      ]
    },
    {
      "cell_type": "code",
      "execution_count": 43,
      "metadata": {
        "id": "vne-FagahQ8m",
        "outputId": "e66f8ca7-e22a-4ef9-e23e-ad9937012371",
        "colab": {
          "base_uri": "https://localhost:8080/"
        }
      },
      "outputs": [
        {
          "output_type": "stream",
          "name": "stdout",
          "text": [
            "[' Consult - History and Phy.', ' Cardiovascular / Pulmonary', ' Cardiovascular / Pulmonary', ' Consult - History and Phy.', ' Cardiovascular / Pulmonary', ' Cardiovascular / Pulmonary', ' Consult - History and Phy.', ' Radiology', ' Cardiovascular / Pulmonary', ' Consult - History and Phy.']\n",
            "Text to number\n",
            "[1 0 0 1 0 0 1 3 0 1]\n",
            "Number to category\n",
            "[[0. 1. 0. 0.]\n",
            " [1. 0. 0. 0.]\n",
            " [1. 0. 0. 0.]\n",
            " [0. 1. 0. 0.]\n",
            " [1. 0. 0. 0.]\n",
            " [1. 0. 0. 0.]\n",
            " [0. 1. 0. 0.]\n",
            " [0. 0. 0. 1.]\n",
            " [1. 0. 0. 0.]\n",
            " [0. 1. 0. 0.]]\n"
          ]
        }
      ],
      "source": [
        "print(y_train[:10])\n",
        "train_labels = le.fit_transform(y_train)\n",
        "print('Text to number')\n",
        "print(train_labels[:10])\n",
        "train_labels = np.asarray( tf.keras.utils.to_categorical(train_labels))\n",
        "print('Number to category')\n",
        "print(train_labels[:10])"
      ]
    },
    {
      "cell_type": "markdown",
      "metadata": {
        "id": "IsS3g5ODhQ8n"
      },
      "source": [
        "Let us create a simple Convolutional Neural Network model  \n",
        "<br>\n",
        "<br>\n",
        "Keras is a high-level API that's easier for ML beginners, as well as researchers.\n",
        "It is integrated as part of Tensorflow 2.0\n",
        "<br>\n",
        "I am using the Sequential model\n",
        "A Sequential model is appropriate for a plain stack of layers where each layer has exactly one input tensor and one output tensor.\n",
        "Source :https://www.tensorflow.org/guide/keras/sequential_model\n",
        "***"
      ]
    },
    {
      "cell_type": "code",
      "execution_count": 44,
      "metadata": {
        "scrolled": true,
        "id": "xkpFBYhahQ8o"
      },
      "outputs": [],
      "source": [
        "# max_features =20000    #The number of the words\n",
        "# embedding_dim =64       #Embedding Layers to convrting indexx values to embeding dimension so the embedding dimension is 64.\n",
        "# #basicall indexes introduce by 64 dimensional vectors\n",
        "# sequence_length = 40    #It is for forty indexes\n",
        "# model = tf.keras.Sequential()\n",
        "# # the output is embedding dimension vectors\n",
        "# model.add(tf.keras.layers.Embedding(max_features +1, embedding_dim, input_length=sequence_length,\\\n",
        "#                                     embeddings_regularizer = regularizers.l2(0.0004)) \n",
        "# #Below we add convoloutional neural network layer: \n",
        "# #128 = convoloutional filters  \n",
        "\n",
        "\n",
        "# model.add(tf.keras.layers.Conv1D(128, 3, activation='relu',kernel_regularizer = regularizers.l2(0.0004),\\\n",
        "#                                  bias_regularizer = regularizers.l2(0.0004)))                       \n",
        "\n",
        "\n",
        "# #Then we have GlobalMaxPooling                  \n",
        "# model.add(tf.keras.layers.GlobalMaxPooling1D())\n",
        "# model.add(tf.keras.layers.Dropout(0.5))\n",
        "# model.add(tf.keras.layers.Dense(3, activation='sigmoid',\\\n",
        "#                                 kernel_regularizer=regularizers.l2(0.004),\\\n",
        "#                                 bias_regularizer=regularizers.l2(0.004),))\n",
        "# #dense =3 = layers and classes    # regularization would prevent overfitting            \n",
        "# model.summary()\n",
        "# # We use CategoricalCrossentropyas loss function\n",
        "# model.compile(loss=tf.keras.losses.CategoricalCrossentropy(from_logits=True), optimizer='Nadam', metrics=[\"CategoricalAccuracy\"])"
      ]
    },
    {
      "cell_type": "code",
      "source": [
        "max_features =20000\n",
        "embedding_dim =64\n",
        "sequence_length = 40\n",
        "\n",
        "model = tf.keras.Sequential()\n",
        "model.add(tf.keras.layers.Embedding(max_features +1, embedding_dim, input_length=sequence_length,\\\n",
        "                                    embeddings_regularizer = regularizers.l2(0.0004)))                                    \n",
        "\n",
        "model.add(tf.keras.layers.Conv1D(128,4, activation='relu',\\\n",
        "                                 kernel_regularizer = regularizers.l2(0.0004),\\\n",
        "                                 bias_regularizer = regularizers.l2(0.0004)))                               \n",
        "\n",
        "\n",
        "model.add(tf.keras.layers.GlobalMaxPooling1D())\n",
        "\n",
        "model.add(tf.keras.layers.Dropout(0.5))\n",
        "\n",
        "model.add(tf.keras.layers.Dense(4, activation='sigmoid',\\\n",
        "                                kernel_regularizer=regularizers.l2(0.004),\\\n",
        "                                bias_regularizer=regularizers.l2(0.004),))\n",
        "                               \n",
        "\n",
        "\n",
        "\n",
        "model.summary()\n",
        "model.compile(loss=tf.keras.losses.CategoricalCrossentropy(from_logits=True), optimizer='Nadam', metrics=[\"CategoricalAccuracy\"])"
      ],
      "metadata": {
        "colab": {
          "base_uri": "https://localhost:8080/"
        },
        "id": "rK-cGrJ6N_br",
        "outputId": "e790a018-cbb6-48b1-d048-c77c013d16a6"
      },
      "execution_count": 45,
      "outputs": [
        {
          "output_type": "stream",
          "name": "stdout",
          "text": [
            "Model: \"sequential_1\"\n",
            "_________________________________________________________________\n",
            " Layer (type)                Output Shape              Param #   \n",
            "=================================================================\n",
            " embedding_1 (Embedding)     (None, 40, 64)            1280064   \n",
            "                                                                 \n",
            " conv1d_1 (Conv1D)           (None, 37, 128)           32896     \n",
            "                                                                 \n",
            " global_max_pooling1d_1 (Glo  (None, 128)              0         \n",
            " balMaxPooling1D)                                                \n",
            "                                                                 \n",
            " dropout_1 (Dropout)         (None, 128)               0         \n",
            "                                                                 \n",
            " dense_1 (Dense)             (None, 4)                 516       \n",
            "                                                                 \n",
            "=================================================================\n",
            "Total params: 1,313,476\n",
            "Trainable params: 1,313,476\n",
            "Non-trainable params: 0\n",
            "_________________________________________________________________\n"
          ]
        }
      ]
    },
    {
      "cell_type": "markdown",
      "metadata": {
        "id": "EI33fGrKhQ8p"
      },
      "source": [
        "![Conv1.png](attachment:Conv1.png)"
      ]
    },
    {
      "cell_type": "markdown",
      "metadata": {
        "id": "ZOYM6u9MhQ8q"
      },
      "source": [
        "![Conv2.png](attachment:Conv2.png)"
      ]
    },
    {
      "cell_type": "markdown",
      "metadata": {
        "id": "XazW5bF7hQ8q"
      },
      "source": [
        "![Conv3.png](attachment:Conv3.png)"
      ]
    },
    {
      "cell_type": "markdown",
      "metadata": {
        "id": "dm4JpWZVhQ8q"
      },
      "source": [
        "![Conv4.png](attachment:Conv4.png)"
      ]
    },
    {
      "cell_type": "markdown",
      "metadata": {
        "id": "ZlANZT-PhQ8q"
      },
      "source": [
        "![Conv5.png](attachment:Conv5.png)"
      ]
    },
    {
      "cell_type": "markdown",
      "metadata": {
        "id": "HTdvM1HyhQ8s"
      },
      "source": [
        "Let's train our model"
      ]
    },
    {
      "cell_type": "code",
      "execution_count": 46,
      "metadata": {
        "scrolled": true,
        "id": "PeNVMWSLhQ8s",
        "outputId": "711dbce2-4e8f-4f93-b7a6-625268fcb159",
        "colab": {
          "base_uri": "https://localhost:8080/"
        }
      },
      "outputs": [
        {
          "output_type": "stream",
          "name": "stdout",
          "text": [
            "Epoch 1/100\n"
          ]
        },
        {
          "output_type": "stream",
          "name": "stderr",
          "text": [
            "/usr/local/lib/python3.8/dist-packages/tensorflow/python/util/dispatch.py:1082: UserWarning: \"`categorical_crossentropy` received `from_logits=True`, but the `output` argument was produced by a sigmoid or softmax activation and thus does not represent logits. Was this intended?\"\n",
            "  return dispatch_target(*args, **kwargs)\n"
          ]
        },
        {
          "output_type": "stream",
          "name": "stdout",
          "text": [
            "11/11 [==============================] - 2s 76ms/step - loss: 1.7766 - categorical_accuracy: 0.3133 - val_loss: 1.6709 - val_categorical_accuracy: 0.3421\n",
            "Epoch 2/100\n",
            "11/11 [==============================] - 1s 53ms/step - loss: 1.6073 - categorical_accuracy: 0.3404 - val_loss: 1.5393 - val_categorical_accuracy: 0.3421\n",
            "Epoch 3/100\n",
            "11/11 [==============================] - 1s 57ms/step - loss: 1.4977 - categorical_accuracy: 0.3419 - val_loss: 1.4647 - val_categorical_accuracy: 0.3421\n",
            "Epoch 4/100\n",
            "11/11 [==============================] - 1s 52ms/step - loss: 1.4382 - categorical_accuracy: 0.3397 - val_loss: 1.4273 - val_categorical_accuracy: 0.3421\n",
            "Epoch 5/100\n",
            "11/11 [==============================] - 1s 54ms/step - loss: 1.4071 - categorical_accuracy: 0.3456 - val_loss: 1.4108 - val_categorical_accuracy: 0.3421\n",
            "Epoch 6/100\n",
            "11/11 [==============================] - 1s 52ms/step - loss: 1.3935 - categorical_accuracy: 0.3485 - val_loss: 1.4045 - val_categorical_accuracy: 0.3421\n",
            "Epoch 7/100\n",
            "11/11 [==============================] - 1s 53ms/step - loss: 1.3834 - categorical_accuracy: 0.3558 - val_loss: 1.4022 - val_categorical_accuracy: 0.3421\n",
            "Epoch 8/100\n",
            "11/11 [==============================] - 1s 54ms/step - loss: 1.3759 - categorical_accuracy: 0.3507 - val_loss: 1.4016 - val_categorical_accuracy: 0.3421\n",
            "Epoch 9/100\n",
            "11/11 [==============================] - 1s 52ms/step - loss: 1.3721 - categorical_accuracy: 0.3536 - val_loss: 1.4023 - val_categorical_accuracy: 0.3421\n",
            "Epoch 10/100\n",
            "11/11 [==============================] - 1s 53ms/step - loss: 1.3660 - categorical_accuracy: 0.3551 - val_loss: 1.4035 - val_categorical_accuracy: 0.3421\n",
            "Epoch 11/100\n",
            "11/11 [==============================] - 1s 54ms/step - loss: 1.3631 - categorical_accuracy: 0.3544 - val_loss: 1.4031 - val_categorical_accuracy: 0.3421\n",
            "Epoch 12/100\n",
            "11/11 [==============================] - 1s 54ms/step - loss: 1.3616 - categorical_accuracy: 0.3573 - val_loss: 1.4022 - val_categorical_accuracy: 0.3421\n",
            "Epoch 13/100\n",
            "11/11 [==============================] - 1s 55ms/step - loss: 1.3603 - categorical_accuracy: 0.3558 - val_loss: 1.4016 - val_categorical_accuracy: 0.3421\n",
            "Epoch 14/100\n",
            "11/11 [==============================] - 1s 52ms/step - loss: 1.3609 - categorical_accuracy: 0.3573 - val_loss: 1.4006 - val_categorical_accuracy: 0.3421\n",
            "Epoch 15/100\n",
            "11/11 [==============================] - 1s 54ms/step - loss: 1.3561 - categorical_accuracy: 0.3595 - val_loss: 1.4000 - val_categorical_accuracy: 0.3421\n",
            "Epoch 16/100\n",
            "11/11 [==============================] - 1s 54ms/step - loss: 1.3549 - categorical_accuracy: 0.3551 - val_loss: 1.3991 - val_categorical_accuracy: 0.3421\n",
            "Epoch 17/100\n",
            "11/11 [==============================] - 1s 51ms/step - loss: 1.3502 - categorical_accuracy: 0.3580 - val_loss: 1.3984 - val_categorical_accuracy: 0.3421\n",
            "Epoch 18/100\n",
            "11/11 [==============================] - 1s 54ms/step - loss: 1.3485 - categorical_accuracy: 0.3617 - val_loss: 1.3967 - val_categorical_accuracy: 0.3421\n",
            "Epoch 19/100\n",
            "11/11 [==============================] - 1s 52ms/step - loss: 1.3498 - categorical_accuracy: 0.3580 - val_loss: 1.3961 - val_categorical_accuracy: 0.3421\n",
            "Epoch 20/100\n",
            "11/11 [==============================] - 1s 54ms/step - loss: 1.3495 - categorical_accuracy: 0.3602 - val_loss: 1.3957 - val_categorical_accuracy: 0.3421\n",
            "Epoch 21/100\n",
            "11/11 [==============================] - 1s 54ms/step - loss: 1.3464 - categorical_accuracy: 0.3588 - val_loss: 1.3945 - val_categorical_accuracy: 0.3421\n",
            "Epoch 22/100\n",
            "11/11 [==============================] - 1s 53ms/step - loss: 1.3472 - categorical_accuracy: 0.3602 - val_loss: 1.3935 - val_categorical_accuracy: 0.3421\n",
            "Epoch 23/100\n",
            "11/11 [==============================] - 1s 54ms/step - loss: 1.3485 - categorical_accuracy: 0.3588 - val_loss: 1.3927 - val_categorical_accuracy: 0.3421\n",
            "Epoch 24/100\n",
            "11/11 [==============================] - 1s 53ms/step - loss: 1.3481 - categorical_accuracy: 0.3595 - val_loss: 1.3927 - val_categorical_accuracy: 0.3421\n",
            "Epoch 25/100\n",
            "11/11 [==============================] - 1s 55ms/step - loss: 1.3442 - categorical_accuracy: 0.3595 - val_loss: 1.3940 - val_categorical_accuracy: 0.3421\n",
            "Epoch 26/100\n",
            "11/11 [==============================] - 1s 54ms/step - loss: 1.3430 - categorical_accuracy: 0.3602 - val_loss: 1.3931 - val_categorical_accuracy: 0.3421\n",
            "Epoch 27/100\n",
            "11/11 [==============================] - 1s 52ms/step - loss: 1.3444 - categorical_accuracy: 0.3602 - val_loss: 1.3920 - val_categorical_accuracy: 0.3421\n",
            "Epoch 28/100\n",
            "11/11 [==============================] - 1s 54ms/step - loss: 1.3435 - categorical_accuracy: 0.3610 - val_loss: 1.3919 - val_categorical_accuracy: 0.3421\n",
            "Epoch 29/100\n",
            "11/11 [==============================] - 1s 56ms/step - loss: 1.3405 - categorical_accuracy: 0.3624 - val_loss: 1.3920 - val_categorical_accuracy: 0.3421\n",
            "Epoch 30/100\n",
            "11/11 [==============================] - 1s 53ms/step - loss: 1.3440 - categorical_accuracy: 0.3588 - val_loss: 1.3919 - val_categorical_accuracy: 0.3421\n",
            "Epoch 31/100\n",
            "11/11 [==============================] - 1s 53ms/step - loss: 1.3459 - categorical_accuracy: 0.3580 - val_loss: 1.3915 - val_categorical_accuracy: 0.3421\n",
            "Epoch 32/100\n",
            "11/11 [==============================] - 1s 53ms/step - loss: 1.3410 - categorical_accuracy: 0.3610 - val_loss: 1.3914 - val_categorical_accuracy: 0.3421\n",
            "Epoch 33/100\n",
            "11/11 [==============================] - 1s 53ms/step - loss: 1.3439 - categorical_accuracy: 0.3588 - val_loss: 1.3900 - val_categorical_accuracy: 0.3421\n",
            "Epoch 34/100\n",
            "11/11 [==============================] - 1s 53ms/step - loss: 1.3408 - categorical_accuracy: 0.3617 - val_loss: 1.3899 - val_categorical_accuracy: 0.3421\n",
            "Epoch 35/100\n",
            "11/11 [==============================] - 1s 52ms/step - loss: 1.3405 - categorical_accuracy: 0.3580 - val_loss: 1.3906 - val_categorical_accuracy: 0.3421\n",
            "Epoch 36/100\n",
            "11/11 [==============================] - 1s 55ms/step - loss: 1.3395 - categorical_accuracy: 0.3602 - val_loss: 1.3900 - val_categorical_accuracy: 0.3421\n",
            "Epoch 37/100\n",
            "11/11 [==============================] - 1s 53ms/step - loss: 1.3409 - categorical_accuracy: 0.3558 - val_loss: 1.3893 - val_categorical_accuracy: 0.3421\n",
            "Epoch 38/100\n",
            "11/11 [==============================] - 1s 52ms/step - loss: 1.3442 - categorical_accuracy: 0.3602 - val_loss: 1.3890 - val_categorical_accuracy: 0.3421\n",
            "Epoch 39/100\n",
            "11/11 [==============================] - 1s 52ms/step - loss: 1.3398 - categorical_accuracy: 0.3588 - val_loss: 1.3895 - val_categorical_accuracy: 0.3421\n",
            "Epoch 40/100\n",
            "11/11 [==============================] - 1s 77ms/step - loss: 1.3398 - categorical_accuracy: 0.3573 - val_loss: 1.3901 - val_categorical_accuracy: 0.3421\n",
            "Epoch 41/100\n",
            "11/11 [==============================] - 1s 66ms/step - loss: 1.3403 - categorical_accuracy: 0.3602 - val_loss: 1.3894 - val_categorical_accuracy: 0.3421\n",
            "Epoch 42/100\n",
            "11/11 [==============================] - 1s 52ms/step - loss: 1.3405 - categorical_accuracy: 0.3588 - val_loss: 1.3888 - val_categorical_accuracy: 0.3421\n",
            "Epoch 43/100\n",
            "11/11 [==============================] - 1s 53ms/step - loss: 1.3385 - categorical_accuracy: 0.3595 - val_loss: 1.3892 - val_categorical_accuracy: 0.3421\n",
            "Epoch 44/100\n",
            "11/11 [==============================] - 1s 56ms/step - loss: 1.3352 - categorical_accuracy: 0.3595 - val_loss: 1.3890 - val_categorical_accuracy: 0.3421\n",
            "Epoch 45/100\n",
            "11/11 [==============================] - 1s 54ms/step - loss: 1.3369 - categorical_accuracy: 0.3617 - val_loss: 1.3889 - val_categorical_accuracy: 0.3421\n",
            "Epoch 46/100\n",
            "11/11 [==============================] - 1s 52ms/step - loss: 1.3347 - categorical_accuracy: 0.3617 - val_loss: 1.3894 - val_categorical_accuracy: 0.3421\n",
            "Epoch 47/100\n",
            "11/11 [==============================] - 1s 53ms/step - loss: 1.3350 - categorical_accuracy: 0.3610 - val_loss: 1.3900 - val_categorical_accuracy: 0.3421\n",
            "Epoch 48/100\n",
            "11/11 [==============================] - 1s 53ms/step - loss: 1.3353 - categorical_accuracy: 0.3602 - val_loss: 1.3898 - val_categorical_accuracy: 0.3421\n",
            "Epoch 49/100\n",
            "11/11 [==============================] - 1s 55ms/step - loss: 1.3363 - categorical_accuracy: 0.3602 - val_loss: 1.3902 - val_categorical_accuracy: 0.3421\n",
            "Epoch 50/100\n",
            "11/11 [==============================] - 1s 51ms/step - loss: 1.3369 - categorical_accuracy: 0.3588 - val_loss: 1.3897 - val_categorical_accuracy: 0.3421\n",
            "Epoch 51/100\n",
            "11/11 [==============================] - 1s 54ms/step - loss: 1.3390 - categorical_accuracy: 0.3588 - val_loss: 1.3883 - val_categorical_accuracy: 0.3421\n",
            "Epoch 52/100\n",
            "11/11 [==============================] - 1s 55ms/step - loss: 1.3386 - categorical_accuracy: 0.3610 - val_loss: 1.3875 - val_categorical_accuracy: 0.3421\n",
            "Epoch 53/100\n",
            "11/11 [==============================] - 1s 54ms/step - loss: 1.3408 - categorical_accuracy: 0.3624 - val_loss: 1.3868 - val_categorical_accuracy: 0.3421\n",
            "Epoch 54/100\n",
            "11/11 [==============================] - 1s 53ms/step - loss: 1.3374 - categorical_accuracy: 0.3595 - val_loss: 1.3871 - val_categorical_accuracy: 0.3421\n",
            "Epoch 55/100\n",
            "11/11 [==============================] - 1s 54ms/step - loss: 1.3366 - categorical_accuracy: 0.3580 - val_loss: 1.3870 - val_categorical_accuracy: 0.3421\n",
            "Epoch 56/100\n",
            "11/11 [==============================] - 1s 54ms/step - loss: 1.3356 - categorical_accuracy: 0.3602 - val_loss: 1.3879 - val_categorical_accuracy: 0.3421\n",
            "Epoch 57/100\n",
            "11/11 [==============================] - 1s 54ms/step - loss: 1.3339 - categorical_accuracy: 0.3595 - val_loss: 1.3887 - val_categorical_accuracy: 0.3421\n",
            "Epoch 58/100\n",
            "11/11 [==============================] - 1s 54ms/step - loss: 1.3353 - categorical_accuracy: 0.3602 - val_loss: 1.3883 - val_categorical_accuracy: 0.3421\n",
            "Epoch 59/100\n",
            "11/11 [==============================] - 1s 57ms/step - loss: 1.3383 - categorical_accuracy: 0.3588 - val_loss: 1.3888 - val_categorical_accuracy: 0.3421\n",
            "Epoch 60/100\n",
            "11/11 [==============================] - 1s 53ms/step - loss: 1.3376 - categorical_accuracy: 0.3595 - val_loss: 1.3876 - val_categorical_accuracy: 0.3421\n",
            "Epoch 61/100\n",
            "11/11 [==============================] - 1s 53ms/step - loss: 1.3352 - categorical_accuracy: 0.3573 - val_loss: 1.3876 - val_categorical_accuracy: 0.3421\n",
            "Epoch 62/100\n",
            "11/11 [==============================] - 1s 50ms/step - loss: 1.3375 - categorical_accuracy: 0.3602 - val_loss: 1.3866 - val_categorical_accuracy: 0.3421\n",
            "Epoch 63/100\n",
            "11/11 [==============================] - 1s 52ms/step - loss: 1.3378 - categorical_accuracy: 0.3588 - val_loss: 1.3862 - val_categorical_accuracy: 0.3421\n",
            "Epoch 64/100\n",
            "11/11 [==============================] - 1s 54ms/step - loss: 1.3329 - categorical_accuracy: 0.3588 - val_loss: 1.3873 - val_categorical_accuracy: 0.3421\n",
            "Epoch 65/100\n",
            "11/11 [==============================] - 1s 55ms/step - loss: 1.3331 - categorical_accuracy: 0.3624 - val_loss: 1.3879 - val_categorical_accuracy: 0.3421\n",
            "Epoch 66/100\n",
            "11/11 [==============================] - 1s 54ms/step - loss: 1.3387 - categorical_accuracy: 0.3595 - val_loss: 1.3881 - val_categorical_accuracy: 0.3421\n",
            "Epoch 67/100\n",
            "11/11 [==============================] - 1s 53ms/step - loss: 1.3367 - categorical_accuracy: 0.3588 - val_loss: 1.3882 - val_categorical_accuracy: 0.3421\n",
            "Epoch 68/100\n",
            "11/11 [==============================] - 1s 55ms/step - loss: 1.3352 - categorical_accuracy: 0.3610 - val_loss: 1.3872 - val_categorical_accuracy: 0.3421\n",
            "Epoch 69/100\n",
            "11/11 [==============================] - 1s 54ms/step - loss: 1.3323 - categorical_accuracy: 0.3595 - val_loss: 1.3875 - val_categorical_accuracy: 0.3421\n",
            "Epoch 70/100\n",
            "11/11 [==============================] - 1s 55ms/step - loss: 1.3371 - categorical_accuracy: 0.3588 - val_loss: 1.3874 - val_categorical_accuracy: 0.3421\n",
            "Epoch 71/100\n",
            "11/11 [==============================] - 1s 55ms/step - loss: 1.3337 - categorical_accuracy: 0.3624 - val_loss: 1.3872 - val_categorical_accuracy: 0.3421\n",
            "Epoch 72/100\n",
            "11/11 [==============================] - 1s 53ms/step - loss: 1.3319 - categorical_accuracy: 0.3595 - val_loss: 1.3880 - val_categorical_accuracy: 0.3421\n",
            "Epoch 73/100\n",
            "11/11 [==============================] - 1s 56ms/step - loss: 1.3327 - categorical_accuracy: 0.3588 - val_loss: 1.3887 - val_categorical_accuracy: 0.3421\n",
            "Epoch 74/100\n",
            "11/11 [==============================] - 1s 54ms/step - loss: 1.3367 - categorical_accuracy: 0.3588 - val_loss: 1.3871 - val_categorical_accuracy: 0.3421\n",
            "Epoch 75/100\n",
            "11/11 [==============================] - 1s 54ms/step - loss: 1.3359 - categorical_accuracy: 0.3580 - val_loss: 1.3875 - val_categorical_accuracy: 0.3421\n",
            "Epoch 76/100\n",
            "11/11 [==============================] - 1s 59ms/step - loss: 1.3351 - categorical_accuracy: 0.3588 - val_loss: 1.3868 - val_categorical_accuracy: 0.3421\n",
            "Epoch 77/100\n",
            "11/11 [==============================] - 1s 54ms/step - loss: 1.3341 - categorical_accuracy: 0.3595 - val_loss: 1.3867 - val_categorical_accuracy: 0.3421\n",
            "Epoch 78/100\n",
            "11/11 [==============================] - 1s 56ms/step - loss: 1.3323 - categorical_accuracy: 0.3610 - val_loss: 1.3880 - val_categorical_accuracy: 0.3421\n",
            "Epoch 79/100\n",
            "11/11 [==============================] - 1s 55ms/step - loss: 1.3354 - categorical_accuracy: 0.3610 - val_loss: 1.3883 - val_categorical_accuracy: 0.3421\n",
            "Epoch 80/100\n",
            "11/11 [==============================] - 1s 54ms/step - loss: 1.3334 - categorical_accuracy: 0.3617 - val_loss: 1.3880 - val_categorical_accuracy: 0.3421\n",
            "Epoch 81/100\n",
            "11/11 [==============================] - 1s 55ms/step - loss: 1.3328 - categorical_accuracy: 0.3617 - val_loss: 1.3871 - val_categorical_accuracy: 0.3421\n",
            "Epoch 82/100\n",
            "11/11 [==============================] - 1s 52ms/step - loss: 1.3315 - categorical_accuracy: 0.3595 - val_loss: 1.3879 - val_categorical_accuracy: 0.3421\n",
            "Epoch 83/100\n",
            "11/11 [==============================] - 1s 54ms/step - loss: 1.3349 - categorical_accuracy: 0.3595 - val_loss: 1.3887 - val_categorical_accuracy: 0.3421\n",
            "Epoch 84/100\n",
            "11/11 [==============================] - 1s 53ms/step - loss: 1.3323 - categorical_accuracy: 0.3580 - val_loss: 1.3878 - val_categorical_accuracy: 0.3421\n",
            "Epoch 85/100\n",
            "11/11 [==============================] - 1s 55ms/step - loss: 1.3345 - categorical_accuracy: 0.3588 - val_loss: 1.3871 - val_categorical_accuracy: 0.3421\n",
            "Epoch 86/100\n",
            "11/11 [==============================] - 1s 53ms/step - loss: 1.3348 - categorical_accuracy: 0.3573 - val_loss: 1.3875 - val_categorical_accuracy: 0.3421\n",
            "Epoch 87/100\n",
            "11/11 [==============================] - 1s 55ms/step - loss: 1.3343 - categorical_accuracy: 0.3602 - val_loss: 1.3883 - val_categorical_accuracy: 0.3421\n",
            "Epoch 88/100\n",
            "11/11 [==============================] - 1s 54ms/step - loss: 1.3315 - categorical_accuracy: 0.3617 - val_loss: 1.3876 - val_categorical_accuracy: 0.3421\n",
            "Epoch 89/100\n",
            "11/11 [==============================] - 1s 57ms/step - loss: 1.3331 - categorical_accuracy: 0.3602 - val_loss: 1.3868 - val_categorical_accuracy: 0.3421\n",
            "Epoch 90/100\n",
            "11/11 [==============================] - 1s 51ms/step - loss: 1.3329 - categorical_accuracy: 0.3617 - val_loss: 1.3876 - val_categorical_accuracy: 0.3421\n",
            "Epoch 91/100\n",
            "11/11 [==============================] - 1s 53ms/step - loss: 1.3361 - categorical_accuracy: 0.3595 - val_loss: 1.3876 - val_categorical_accuracy: 0.3421\n",
            "Epoch 92/100\n",
            "11/11 [==============================] - 1s 57ms/step - loss: 1.3331 - categorical_accuracy: 0.3617 - val_loss: 1.3865 - val_categorical_accuracy: 0.3421\n",
            "Epoch 93/100\n",
            "11/11 [==============================] - 1s 52ms/step - loss: 1.3333 - categorical_accuracy: 0.3602 - val_loss: 1.3872 - val_categorical_accuracy: 0.3421\n",
            "Epoch 94/100\n",
            "11/11 [==============================] - 1s 56ms/step - loss: 1.3341 - categorical_accuracy: 0.3595 - val_loss: 1.3878 - val_categorical_accuracy: 0.3421\n",
            "Epoch 95/100\n",
            "11/11 [==============================] - 1s 53ms/step - loss: 1.3333 - categorical_accuracy: 0.3617 - val_loss: 1.3879 - val_categorical_accuracy: 0.3421\n",
            "Epoch 96/100\n",
            "11/11 [==============================] - 1s 55ms/step - loss: 1.3293 - categorical_accuracy: 0.3610 - val_loss: 1.3875 - val_categorical_accuracy: 0.3421\n",
            "Epoch 97/100\n",
            "11/11 [==============================] - 1s 55ms/step - loss: 1.3321 - categorical_accuracy: 0.3617 - val_loss: 1.3879 - val_categorical_accuracy: 0.3421\n",
            "Epoch 98/100\n",
            "11/11 [==============================] - 1s 54ms/step - loss: 1.3325 - categorical_accuracy: 0.3602 - val_loss: 1.3875 - val_categorical_accuracy: 0.3421\n",
            "Epoch 99/100\n",
            "11/11 [==============================] - 1s 54ms/step - loss: 1.3336 - categorical_accuracy: 0.3595 - val_loss: 1.3867 - val_categorical_accuracy: 0.3421\n",
            "Epoch 100/100\n",
            "11/11 [==============================] - 1s 54ms/step - loss: 1.3332 - categorical_accuracy: 0.3617 - val_loss: 1.3864 - val_categorical_accuracy: 0.3421\n"
          ]
        }
      ],
      "source": [
        "epochs = 100\n",
        "# Fit the model using the train and test datasets.\n",
        "#history = model.fit(x_train, train_labels,validation_data= (x_test,test_labels),epochs=epochs )\n",
        "history = model.fit(train_ds.shuffle(2000).batch(128),\n",
        "                    epochs= epochs ,\n",
        "                    validation_data=valid_ds.batch(128),\n",
        "                    verbose=1)"
      ]
    },
    {
      "cell_type": "code",
      "execution_count": 47,
      "metadata": {
        "id": "W-oOIRtrhQ8t",
        "outputId": "1851fc7f-c296-46e5-8c6b-0f25992ff754",
        "colab": {
          "base_uri": "https://localhost:8080/"
        }
      },
      "outputs": [
        {
          "output_type": "execute_result",
          "data": {
            "text/plain": [
              "{'loss': [1.7765593528747559,\n",
              "  1.6072626113891602,\n",
              "  1.497699499130249,\n",
              "  1.4382412433624268,\n",
              "  1.4071273803710938,\n",
              "  1.3935089111328125,\n",
              "  1.3834033012390137,\n",
              "  1.3759187459945679,\n",
              "  1.37211012840271,\n",
              "  1.3659766912460327,\n",
              "  1.3631277084350586,\n",
              "  1.3616375923156738,\n",
              "  1.3603192567825317,\n",
              "  1.360921025276184,\n",
              "  1.3561069965362549,\n",
              "  1.354892611503601,\n",
              "  1.3501561880111694,\n",
              "  1.3484889268875122,\n",
              "  1.3498387336730957,\n",
              "  1.3494583368301392,\n",
              "  1.3464306592941284,\n",
              "  1.3471792936325073,\n",
              "  1.3485350608825684,\n",
              "  1.348105788230896,\n",
              "  1.3442400693893433,\n",
              "  1.3429949283599854,\n",
              "  1.344367265701294,\n",
              "  1.343490719795227,\n",
              "  1.3405449390411377,\n",
              "  1.343953251838684,\n",
              "  1.3459454774856567,\n",
              "  1.3409889936447144,\n",
              "  1.343921184539795,\n",
              "  1.3408111333847046,\n",
              "  1.3404924869537354,\n",
              "  1.3394997119903564,\n",
              "  1.3409314155578613,\n",
              "  1.3442133665084839,\n",
              "  1.3397681713104248,\n",
              "  1.3398267030715942,\n",
              "  1.3402819633483887,\n",
              "  1.3404744863510132,\n",
              "  1.338462233543396,\n",
              "  1.3352333307266235,\n",
              "  1.3369094133377075,\n",
              "  1.3347221612930298,\n",
              "  1.334984540939331,\n",
              "  1.335306167602539,\n",
              "  1.3362886905670166,\n",
              "  1.3369301557540894,\n",
              "  1.3390451669692993,\n",
              "  1.3385826349258423,\n",
              "  1.340757131576538,\n",
              "  1.3373624086380005,\n",
              "  1.3366228342056274,\n",
              "  1.3356090784072876,\n",
              "  1.3338987827301025,\n",
              "  1.3352893590927124,\n",
              "  1.3383028507232666,\n",
              "  1.337611436843872,\n",
              "  1.335194706916809,\n",
              "  1.3375051021575928,\n",
              "  1.3378106355667114,\n",
              "  1.3329213857650757,\n",
              "  1.3330583572387695,\n",
              "  1.3386560678482056,\n",
              "  1.3366833925247192,\n",
              "  1.3351659774780273,\n",
              "  1.3323043584823608,\n",
              "  1.3371413946151733,\n",
              "  1.3336609601974487,\n",
              "  1.331903100013733,\n",
              "  1.332713007926941,\n",
              "  1.3366975784301758,\n",
              "  1.3359307050704956,\n",
              "  1.3351173400878906,\n",
              "  1.334110140800476,\n",
              "  1.3323346376419067,\n",
              "  1.3353749513626099,\n",
              "  1.3334064483642578,\n",
              "  1.3327745199203491,\n",
              "  1.331456184387207,\n",
              "  1.3348568677902222,\n",
              "  1.3322795629501343,\n",
              "  1.3344664573669434,\n",
              "  1.3347569704055786,\n",
              "  1.3343087434768677,\n",
              "  1.3315167427062988,\n",
              "  1.3330718278884888,\n",
              "  1.3329213857650757,\n",
              "  1.3361303806304932,\n",
              "  1.3331092596054077,\n",
              "  1.33329439163208,\n",
              "  1.3340765237808228,\n",
              "  1.3333054780960083,\n",
              "  1.3292515277862549,\n",
              "  1.3320953845977783,\n",
              "  1.3325464725494385,\n",
              "  1.3336403369903564,\n",
              "  1.3331576585769653],\n",
              " 'categorical_accuracy': [0.31327953934669495,\n",
              "  0.3404255211353302,\n",
              "  0.34189289808273315,\n",
              "  0.3396918475627899,\n",
              "  0.34556126594543457,\n",
              "  0.3484959602355957,\n",
              "  0.3558327257633209,\n",
              "  0.35069698095321655,\n",
              "  0.3536317050457001,\n",
              "  0.35509905219078064,\n",
              "  0.35436537861824036,\n",
              "  0.3573000729084015,\n",
              "  0.3558327257633209,\n",
              "  0.3573000729084015,\n",
              "  0.35950109362602234,\n",
              "  0.35509905219078064,\n",
              "  0.3580337464809418,\n",
              "  0.3617021143436432,\n",
              "  0.3580337464809418,\n",
              "  0.3602347671985626,\n",
              "  0.35876742005348206,\n",
              "  0.3602347671985626,\n",
              "  0.35876742005348206,\n",
              "  0.35950109362602234,\n",
              "  0.35950109362602234,\n",
              "  0.3602347671985626,\n",
              "  0.3602347671985626,\n",
              "  0.3609684407711029,\n",
              "  0.36243581771850586,\n",
              "  0.35876742005348206,\n",
              "  0.3580337464809418,\n",
              "  0.3609684407711029,\n",
              "  0.35876742005348206,\n",
              "  0.3617021143436432,\n",
              "  0.3580337464809418,\n",
              "  0.3602347671985626,\n",
              "  0.3558327257633209,\n",
              "  0.3602347671985626,\n",
              "  0.35876742005348206,\n",
              "  0.3573000729084015,\n",
              "  0.3602347671985626,\n",
              "  0.35876742005348206,\n",
              "  0.35950109362602234,\n",
              "  0.35950109362602234,\n",
              "  0.3617021143436432,\n",
              "  0.3617021143436432,\n",
              "  0.3609684407711029,\n",
              "  0.3602347671985626,\n",
              "  0.3602347671985626,\n",
              "  0.35876742005348206,\n",
              "  0.35876742005348206,\n",
              "  0.3609684407711029,\n",
              "  0.36243581771850586,\n",
              "  0.35950109362602234,\n",
              "  0.3580337464809418,\n",
              "  0.3602347671985626,\n",
              "  0.35950109362602234,\n",
              "  0.3602347671985626,\n",
              "  0.35876742005348206,\n",
              "  0.35950109362602234,\n",
              "  0.3573000729084015,\n",
              "  0.3602347671985626,\n",
              "  0.35876742005348206,\n",
              "  0.35876742005348206,\n",
              "  0.36243581771850586,\n",
              "  0.35950109362602234,\n",
              "  0.35876742005348206,\n",
              "  0.3609684407711029,\n",
              "  0.35950109362602234,\n",
              "  0.35876742005348206,\n",
              "  0.36243581771850586,\n",
              "  0.35950109362602234,\n",
              "  0.35876742005348206,\n",
              "  0.35876742005348206,\n",
              "  0.3580337464809418,\n",
              "  0.35876742005348206,\n",
              "  0.35950109362602234,\n",
              "  0.3609684407711029,\n",
              "  0.3609684407711029,\n",
              "  0.3617021143436432,\n",
              "  0.3617021143436432,\n",
              "  0.35950109362602234,\n",
              "  0.35950109362602234,\n",
              "  0.3580337464809418,\n",
              "  0.35876742005348206,\n",
              "  0.3573000729084015,\n",
              "  0.3602347671985626,\n",
              "  0.3617021143436432,\n",
              "  0.3602347671985626,\n",
              "  0.3617021143436432,\n",
              "  0.35950109362602234,\n",
              "  0.3617021143436432,\n",
              "  0.3602347671985626,\n",
              "  0.35950109362602234,\n",
              "  0.3617021143436432,\n",
              "  0.3609684407711029,\n",
              "  0.3617021143436432,\n",
              "  0.3602347671985626,\n",
              "  0.35950109362602234,\n",
              "  0.3617021143436432],\n",
              " 'val_loss': [1.670880675315857,\n",
              "  1.5392955541610718,\n",
              "  1.4647363424301147,\n",
              "  1.4272938966751099,\n",
              "  1.4107766151428223,\n",
              "  1.4044873714447021,\n",
              "  1.4021711349487305,\n",
              "  1.4016001224517822,\n",
              "  1.4022716283798218,\n",
              "  1.4035331010818481,\n",
              "  1.4031254053115845,\n",
              "  1.40217924118042,\n",
              "  1.4016069173812866,\n",
              "  1.4005889892578125,\n",
              "  1.4000447988510132,\n",
              "  1.399080753326416,\n",
              "  1.3983697891235352,\n",
              "  1.3966690301895142,\n",
              "  1.3960694074630737,\n",
              "  1.395651936531067,\n",
              "  1.394497275352478,\n",
              "  1.3935269117355347,\n",
              "  1.3926812410354614,\n",
              "  1.3927074670791626,\n",
              "  1.393959641456604,\n",
              "  1.393071174621582,\n",
              "  1.3919888734817505,\n",
              "  1.391913652420044,\n",
              "  1.3919521570205688,\n",
              "  1.3918851613998413,\n",
              "  1.3915024995803833,\n",
              "  1.391361117362976,\n",
              "  1.3899887800216675,\n",
              "  1.3899292945861816,\n",
              "  1.3905746936798096,\n",
              "  1.3900330066680908,\n",
              "  1.3892561197280884,\n",
              "  1.388981819152832,\n",
              "  1.3894929885864258,\n",
              "  1.3901211023330688,\n",
              "  1.3893646001815796,\n",
              "  1.3887698650360107,\n",
              "  1.3891968727111816,\n",
              "  1.3889596462249756,\n",
              "  1.388909101486206,\n",
              "  1.389384150505066,\n",
              "  1.3900139331817627,\n",
              "  1.3897699117660522,\n",
              "  1.3902209997177124,\n",
              "  1.3897477388381958,\n",
              "  1.3883397579193115,\n",
              "  1.3875188827514648,\n",
              "  1.3867521286010742,\n",
              "  1.3870563507080078,\n",
              "  1.3870015144348145,\n",
              "  1.3879414796829224,\n",
              "  1.3887231349945068,\n",
              "  1.388297438621521,\n",
              "  1.3887989521026611,\n",
              "  1.387629508972168,\n",
              "  1.3876051902770996,\n",
              "  1.3865910768508911,\n",
              "  1.3862214088439941,\n",
              "  1.387251615524292,\n",
              "  1.3878768682479858,\n",
              "  1.3881155252456665,\n",
              "  1.3881847858428955,\n",
              "  1.3871570825576782,\n",
              "  1.3875354528427124,\n",
              "  1.3873955011367798,\n",
              "  1.3872276544570923,\n",
              "  1.38804292678833,\n",
              "  1.3887211084365845,\n",
              "  1.3870521783828735,\n",
              "  1.3875080347061157,\n",
              "  1.386829137802124,\n",
              "  1.3866788148880005,\n",
              "  1.3880187273025513,\n",
              "  1.3883196115493774,\n",
              "  1.3880186080932617,\n",
              "  1.3871221542358398,\n",
              "  1.3879410028457642,\n",
              "  1.3887417316436768,\n",
              "  1.387803554534912,\n",
              "  1.3871285915374756,\n",
              "  1.3874605894088745,\n",
              "  1.388289213180542,\n",
              "  1.3876463174819946,\n",
              "  1.3867839574813843,\n",
              "  1.387592077255249,\n",
              "  1.3876415491104126,\n",
              "  1.3864717483520508,\n",
              "  1.3871577978134155,\n",
              "  1.387750267982483,\n",
              "  1.3878552913665771,\n",
              "  1.3875142335891724,\n",
              "  1.3879082202911377,\n",
              "  1.3874717950820923,\n",
              "  1.3867061138153076,\n",
              "  1.3863897323608398],\n",
              " 'val_categorical_accuracy': [0.34210526943206787,\n",
              "  0.34210526943206787,\n",
              "  0.34210526943206787,\n",
              "  0.34210526943206787,\n",
              "  0.34210526943206787,\n",
              "  0.34210526943206787,\n",
              "  0.34210526943206787,\n",
              "  0.34210526943206787,\n",
              "  0.34210526943206787,\n",
              "  0.34210526943206787,\n",
              "  0.34210526943206787,\n",
              "  0.34210526943206787,\n",
              "  0.34210526943206787,\n",
              "  0.34210526943206787,\n",
              "  0.34210526943206787,\n",
              "  0.34210526943206787,\n",
              "  0.34210526943206787,\n",
              "  0.34210526943206787,\n",
              "  0.34210526943206787,\n",
              "  0.34210526943206787,\n",
              "  0.34210526943206787,\n",
              "  0.34210526943206787,\n",
              "  0.34210526943206787,\n",
              "  0.34210526943206787,\n",
              "  0.34210526943206787,\n",
              "  0.34210526943206787,\n",
              "  0.34210526943206787,\n",
              "  0.34210526943206787,\n",
              "  0.34210526943206787,\n",
              "  0.34210526943206787,\n",
              "  0.34210526943206787,\n",
              "  0.34210526943206787,\n",
              "  0.34210526943206787,\n",
              "  0.34210526943206787,\n",
              "  0.34210526943206787,\n",
              "  0.34210526943206787,\n",
              "  0.34210526943206787,\n",
              "  0.34210526943206787,\n",
              "  0.34210526943206787,\n",
              "  0.34210526943206787,\n",
              "  0.34210526943206787,\n",
              "  0.34210526943206787,\n",
              "  0.34210526943206787,\n",
              "  0.34210526943206787,\n",
              "  0.34210526943206787,\n",
              "  0.34210526943206787,\n",
              "  0.34210526943206787,\n",
              "  0.34210526943206787,\n",
              "  0.34210526943206787,\n",
              "  0.34210526943206787,\n",
              "  0.34210526943206787,\n",
              "  0.34210526943206787,\n",
              "  0.34210526943206787,\n",
              "  0.34210526943206787,\n",
              "  0.34210526943206787,\n",
              "  0.34210526943206787,\n",
              "  0.34210526943206787,\n",
              "  0.34210526943206787,\n",
              "  0.34210526943206787,\n",
              "  0.34210526943206787,\n",
              "  0.34210526943206787,\n",
              "  0.34210526943206787,\n",
              "  0.34210526943206787,\n",
              "  0.34210526943206787,\n",
              "  0.34210526943206787,\n",
              "  0.34210526943206787,\n",
              "  0.34210526943206787,\n",
              "  0.34210526943206787,\n",
              "  0.34210526943206787,\n",
              "  0.34210526943206787,\n",
              "  0.34210526943206787,\n",
              "  0.34210526943206787,\n",
              "  0.34210526943206787,\n",
              "  0.34210526943206787,\n",
              "  0.34210526943206787,\n",
              "  0.34210526943206787,\n",
              "  0.34210526943206787,\n",
              "  0.34210526943206787,\n",
              "  0.34210526943206787,\n",
              "  0.34210526943206787,\n",
              "  0.34210526943206787,\n",
              "  0.34210526943206787,\n",
              "  0.34210526943206787,\n",
              "  0.34210526943206787,\n",
              "  0.34210526943206787,\n",
              "  0.34210526943206787,\n",
              "  0.34210526943206787,\n",
              "  0.34210526943206787,\n",
              "  0.34210526943206787,\n",
              "  0.34210526943206787,\n",
              "  0.34210526943206787,\n",
              "  0.34210526943206787,\n",
              "  0.34210526943206787,\n",
              "  0.34210526943206787,\n",
              "  0.34210526943206787,\n",
              "  0.34210526943206787,\n",
              "  0.34210526943206787,\n",
              "  0.34210526943206787,\n",
              "  0.34210526943206787,\n",
              "  0.34210526943206787]}"
            ]
          },
          "metadata": {},
          "execution_count": 47
        }
      ],
      "source": [
        "history.history\n"
      ]
    },
    {
      "cell_type": "code",
      "execution_count": 48,
      "metadata": {
        "id": "FbKHGOZohQ8t",
        "outputId": "acdaa7df-8af9-4d19-a5e0-cf8d1257a55e",
        "colab": {
          "base_uri": "https://localhost:8080/",
          "height": 295
        }
      },
      "outputs": [
        {
          "output_type": "display_data",
          "data": {
            "text/plain": [
              "<Figure size 432x288 with 1 Axes>"
            ],
            "image/png": "[encoded data removed]"
          },
          "metadata": {
            "needs_background": "light"
          }
        }
      ],
      "source": [
        "\n",
        "plt.plot(history.history['loss'], label=' training data')\n",
        "plt.plot(history.history['val_loss'], label='validation data)')\n",
        "plt.title('Loss for Text Classification')\n",
        "plt.ylabel('Loss value')\n",
        "plt.xlabel('No. epoch')\n",
        "plt.legend(loc=\"upper left\")\n",
        "plt.show()"
      ]
    },
    {
      "cell_type": "markdown",
      "metadata": {
        "id": "Z-l5wUZshQ8u"
      },
      "source": [
        "Lets save our model and tokenizer"
      ]
    },
    {
      "cell_type": "code",
      "execution_count": 49,
      "metadata": {
        "id": "YrXKXBoChQ8u",
        "outputId": "4c51e04f-5c9d-4d28-93b0-7f7905330f2c",
        "colab": {
          "base_uri": "https://localhost:8080/"
        }
      },
      "outputs": [
        {
          "output_type": "stream",
          "name": "stderr",
          "text": [
            "WARNING:absl:Found untraced functions such as _jit_compiled_convolution_op while saving (showing 1 of 1). These functions will not be directly callable after loading.\n"
          ]
        }
      ],
      "source": [
        "model.save('C:/Users/Samira/pro') \n",
        "json_string = tokenizer.to_json()"
      ]
    },
    {
      "cell_type": "code",
      "execution_count": 50,
      "metadata": {
        "id": "kJ-OyenghQ8v"
      },
      "outputs": [],
      "source": [
        "import json\n",
        "with open('C:/Users/Samira/pro/tokenizer.json', 'w') as outfile:\n",
        "    json.dump(json_string, outfile)"
      ]
    },
    {
      "cell_type": "markdown",
      "metadata": {
        "id": "BVq5SgCChQ8v"
      },
      "source": [
        "Lets load our model and test on test data"
      ]
    },
    {
      "cell_type": "code",
      "execution_count": 51,
      "metadata": {
        "id": "5TloDgzRhQ8v",
        "outputId": "bd37e058-9358-48bb-d6b1-e6943188eab7",
        "colab": {
          "base_uri": "https://localhost:8080/"
        }
      },
      "outputs": [
        {
          "output_type": "stream",
          "name": "stdout",
          "text": [
            "Model: \"sequential_1\"\n",
            "_________________________________________________________________\n",
            " Layer (type)                Output Shape              Param #   \n",
            "=================================================================\n",
            " embedding_1 (Embedding)     (None, 40, 64)            1280064   \n",
            "                                                                 \n",
            " conv1d_1 (Conv1D)           (None, 37, 128)           32896     \n",
            "                                                                 \n",
            " global_max_pooling1d_1 (Glo  (None, 128)              0         \n",
            " balMaxPooling1D)                                                \n",
            "                                                                 \n",
            " dropout_1 (Dropout)         (None, 128)               0         \n",
            "                                                                 \n",
            " dense_1 (Dense)             (None, 4)                 516       \n",
            "                                                                 \n",
            "=================================================================\n",
            "Total params: 1,313,476\n",
            "Trainable params: 1,313,476\n",
            "Non-trainable params: 0\n",
            "_________________________________________________________________\n"
          ]
        }
      ],
      "source": [
        "new_model = tf.keras.models.load_model('C:/Users/Samira/pro')\n",
        "new_model.summary()\n"
      ]
    },
    {
      "cell_type": "code",
      "execution_count": 52,
      "metadata": {
        "id": "3iCaeqWUhQ8w"
      },
      "outputs": [],
      "source": [
        "with open('C:/Users/Samira/pro/tokenizer.json') as json_file:\n",
        "    json_string = json.load(json_file)\n",
        "tokenizer1 = tf.keras.preprocessing.text.tokenizer_from_json(json_string)"
      ]
    },
    {
      "cell_type": "code",
      "execution_count": 53,
      "metadata": {
        "id": "kz-TzTaFhQ8w",
        "outputId": "f42254b0-0e66-44a8-fb18-de1d730bfb80",
        "colab": {
          "base_uri": "https://localhost:8080/"
        }
      },
      "outputs": [
        {
          "output_type": "stream",
          "name": "stderr",
          "text": [
            "<ipython-input-53-387e083bc6c6>:1: VisibleDeprecationWarning: Creating an ndarray from ragged nested sequences (which is a list-or-tuple of lists-or-tuples-or ndarrays with different lengths or shapes) is deprecated. If you meant to do this, you must specify 'dtype=object' when creating the ndarray.\n",
            "  x_test  = np.array( tokenizer1.texts_to_sequences(df['medical_specialty'].tolist()) )\n"
          ]
        }
      ],
      "source": [
        "x_test  = np.array( tokenizer1.texts_to_sequences(df['medical_specialty'].tolist()) )\n",
        "x_test = pad_sequences(x_test, padding='post', maxlen=40)"
      ]
    },
    {
      "cell_type": "code",
      "execution_count": 54,
      "metadata": {
        "id": "OpgiekCfhQ8w",
        "outputId": "a0ed64cf-82c6-451e-c1db-3ecf8a80b9b4",
        "colab": {
          "base_uri": "https://localhost:8080/"
        }
      },
      "outputs": [
        {
          "output_type": "stream",
          "name": "stdout",
          "text": [
            "Generate predictions for all samples\n",
            "48/48 [==============================] - 0s 4ms/step\n",
            "[[0.534976   0.4781028  0.44742724 0.5321581 ]\n",
            " [0.534976   0.4781028  0.44742724 0.5321581 ]\n",
            " [0.534976   0.4781028  0.44742724 0.5321581 ]\n",
            " ...\n",
            " [0.534976   0.4781028  0.44742724 0.5321581 ]\n",
            " [0.534976   0.4781028  0.44742724 0.5321581 ]\n",
            " [0.534976   0.4781028  0.44742724 0.532158  ]]\n"
          ]
        }
      ],
      "source": [
        "\n",
        "# Generate predictions (probabilities -- the output of the last layer)\n",
        "# on test  data using `predict`\n",
        "print(\"Generate predictions for all samples\")\n",
        "predictions = new_model.predict(x_test)\n",
        "print(predictions)\n",
        "predict_results = predictions.argmax(axis=1)\n"
      ]
    },
    {
      "cell_type": "code",
      "source": [
        "df['pred_medical_specialty']= predict_results\n",
        "\n",
        "df['pred_medical_specialty'] = np.where((df.pred_medical_specialty ==  0), ' Cardiovascular / Pulmonary',df.pred_medical_specialty)\n",
        "\n",
        "df['pred_medical_specialty'] = np.where((df.pred_medical_specialty == '1'),' Consult - History and Phy.',df.pred_medical_specialty)\n",
        "df['pred_medical_specialty'] = np.where((df.pred_medical_specialty == '2'),' Orthopedic',df.pred_medical_specialty)\n",
        "df['pred_medical_specialty'] = np.where((df.pred_medical_specialty == '3'),' Radiology',df.pred_medical_specialty)\n"
      ],
      "metadata": {
        "id": "aGO7FZD-5r5a"
      },
      "execution_count": 55,
      "outputs": []
    },
    {
      "cell_type": "code",
      "execution_count": 56,
      "metadata": {
        "id": "dvANpx6ShQ8x",
        "outputId": "d2502158-066e-4ea6-b752-f3b2e0698c9f",
        "colab": {
          "base_uri": "https://localhost:8080/",
          "height": 424
        }
      },
      "outputs": [
        {
          "output_type": "execute_result",
          "data": {
            "text/plain": [
              "                                          transcription  \\\n",
              "3     2d mmode 1 left atrial enlargement left atrial...   \n",
              "4     1 left ventricular cavity size wall thickness ...   \n",
              "7     2d echocardiogram multiple view heart great ve...   \n",
              "9     description 1 normal cardiac chamber size 2 no...   \n",
              "11    2d study 1 mild aortic stenosis widely calcifi...   \n",
              "...                                                 ...   \n",
              "4972  indication chest pain type test adenosine nucl...   \n",
              "4973  chief complaint chest pain history present ill...   \n",
              "4974  history present illness patient 68yearold woma...   \n",
              "4975  history present illness mr abc 60yearold gentl...   \n",
              "4976  reason consultation abnormal echocardiogram fi...   \n",
              "\n",
              "                medical_specialty       pred_medical_specialty  \n",
              "3      Cardiovascular / Pulmonary   Cardiovascular / Pulmonary  \n",
              "4      Cardiovascular / Pulmonary   Cardiovascular / Pulmonary  \n",
              "7      Cardiovascular / Pulmonary   Cardiovascular / Pulmonary  \n",
              "9      Cardiovascular / Pulmonary   Cardiovascular / Pulmonary  \n",
              "11     Cardiovascular / Pulmonary   Cardiovascular / Pulmonary  \n",
              "...                           ...                          ...  \n",
              "4972   Cardiovascular / Pulmonary   Cardiovascular / Pulmonary  \n",
              "4973   Cardiovascular / Pulmonary   Cardiovascular / Pulmonary  \n",
              "4974   Cardiovascular / Pulmonary   Cardiovascular / Pulmonary  \n",
              "4975   Cardiovascular / Pulmonary   Cardiovascular / Pulmonary  \n",
              "4976   Cardiovascular / Pulmonary   Cardiovascular / Pulmonary  \n",
              "\n",
              "[1515 rows x 3 columns]"
            ],
            "text/html": [
              "\n",
              "  <div id=\"df-b6331b9a-ab2e-4b30-b8ab-82a04579e40d\">\n",
              "    <div class=\"colab-df-container\">\n",
              "      <div>\n",
              "<style scoped>\n",
              "    .dataframe tbody tr th:only-of-type {\n",
              "        vertical-align: middle;\n",
              "    }\n",
              "\n",
              "    .dataframe tbody tr th {\n",
              "        vertical-align: top;\n",
              "    }\n",
              "\n",
              "    .dataframe thead th {\n",
              "        text-align: right;\n",
              "    }\n",
              "</style>\n",
              "<table border=\"1\" class=\"dataframe\">\n",
              "  <thead>\n",
              "    <tr style=\"text-align: right;\">\n",
              "      <th></th>\n",
              "      <th>transcription</th>\n",
              "      <th>medical_specialty</th>\n",
              "      <th>pred_medical_specialty</th>\n",
              "    </tr>\n",
              "  </thead>\n",
              "  <tbody>\n",
              "    <tr>\n",
              "      <th>3</th>\n",
              "      <td>2d mmode 1 left atrial enlargement left atrial...</td>\n",
              "      <td>Cardiovascular / Pulmonary</td>\n",
              "      <td>Cardiovascular / Pulmonary</td>\n",
              "    </tr>\n",
              "    <tr>\n",
              "      <th>4</th>\n",
              "      <td>1 left ventricular cavity size wall thickness ...</td>\n",
              "      <td>Cardiovascular / Pulmonary</td>\n",
              "      <td>Cardiovascular / Pulmonary</td>\n",
              "    </tr>\n",
              "    <tr>\n",
              "      <th>7</th>\n",
              "      <td>2d echocardiogram multiple view heart great ve...</td>\n",
              "      <td>Cardiovascular / Pulmonary</td>\n",
              "      <td>Cardiovascular / Pulmonary</td>\n",
              "    </tr>\n",
              "    <tr>\n",
              "      <th>9</th>\n",
              "      <td>description 1 normal cardiac chamber size 2 no...</td>\n",
              "      <td>Cardiovascular / Pulmonary</td>\n",
              "      <td>Cardiovascular / Pulmonary</td>\n",
              "    </tr>\n",
              "    <tr>\n",
              "      <th>11</th>\n",
              "      <td>2d study 1 mild aortic stenosis widely calcifi...</td>\n",
              "      <td>Cardiovascular / Pulmonary</td>\n",
              "      <td>Cardiovascular / Pulmonary</td>\n",
              "    </tr>\n",
              "    <tr>\n",
              "      <th>...</th>\n",
              "      <td>...</td>\n",
              "      <td>...</td>\n",
              "      <td>...</td>\n",
              "    </tr>\n",
              "    <tr>\n",
              "      <th>4972</th>\n",
              "      <td>indication chest pain type test adenosine nucl...</td>\n",
              "      <td>Cardiovascular / Pulmonary</td>\n",
              "      <td>Cardiovascular / Pulmonary</td>\n",
              "    </tr>\n",
              "    <tr>\n",
              "      <th>4973</th>\n",
              "      <td>chief complaint chest pain history present ill...</td>\n",
              "      <td>Cardiovascular / Pulmonary</td>\n",
              "      <td>Cardiovascular / Pulmonary</td>\n",
              "    </tr>\n",
              "    <tr>\n",
              "      <th>4974</th>\n",
              "      <td>history present illness patient 68yearold woma...</td>\n",
              "      <td>Cardiovascular / Pulmonary</td>\n",
              "      <td>Cardiovascular / Pulmonary</td>\n",
              "    </tr>\n",
              "    <tr>\n",
              "      <th>4975</th>\n",
              "      <td>history present illness mr abc 60yearold gentl...</td>\n",
              "      <td>Cardiovascular / Pulmonary</td>\n",
              "      <td>Cardiovascular / Pulmonary</td>\n",
              "    </tr>\n",
              "    <tr>\n",
              "      <th>4976</th>\n",
              "      <td>reason consultation abnormal echocardiogram fi...</td>\n",
              "      <td>Cardiovascular / Pulmonary</td>\n",
              "      <td>Cardiovascular / Pulmonary</td>\n",
              "    </tr>\n",
              "  </tbody>\n",
              "</table>\n",
              "<p>1515 rows × 3 columns</p>\n",
              "</div>\n",
              "      <button class=\"colab-df-convert\" onclick=\"convertToInteractive('df-b6331b9a-ab2e-4b30-b8ab-82a04579e40d')\"\n",
              "              title=\"Convert this dataframe to an interactive table.\"\n",
              "              style=\"display:none;\">\n",
              "        \n",
              "  <svg xmlns=\"http://www.w3.org/2000/svg\" height=\"24px\"viewBox=\"0 0 24 24\"\n",
              "       width=\"24px\">\n",
              "    <path d=\"M0 0h24v24H0V0z\" fill=\"none\"/>\n",
              "    <path d=\"M18.56 5.44l.94 2.06.94-2.06 2.06-.94-2.06-.94-.94-2.06-.94 2.06-2.06.94zm-11 1L8.5 8.5l.94-2.06 2.06-.94-2.06-.94L8.5 2.5l-.94 2.06-2.06.94zm10 10l.94 2.06.94-2.06 2.06-.94-2.06-.94-.94-2.06-.94 2.06-2.06.94z\"/><path d=\"M17.41 7.96l-1.37-1.37c-.4-.4-.92-.59-1.43-.59-.52 0-1.04.2-1.43.59L10.3 9.45l-7.72 7.72c-.78.78-.78 2.05 0 2.83L4 21.41c.39.39.9.59 1.41.59.51 0 1.02-.2 1.41-.59l7.78-7.78 2.81-2.81c.8-.78.8-2.07 0-2.86zM5.41 20L4 18.59l7.72-7.72 1.47 1.35L5.41 20z\"/>\n",
              "  </svg>\n",
              "      </button>\n",
              "      \n",
              "  <style>\n",
              "    .colab-df-container {\n",
              "      display:flex;\n",
              "      flex-wrap:wrap;\n",
              "      gap: 12px;\n",
              "    }\n",
              "\n",
              "    .colab-df-convert {\n",
              "      background-color: #E8F0FE;\n",
              "      border: none;\n",
              "      border-radius: 50%;\n",
              "      cursor: pointer;\n",
              "      display: none;\n",
              "      fill: #1967D2;\n",
              "      height: 32px;\n",
              "      padding: 0 0 0 0;\n",
              "      width: 32px;\n",
              "    }\n",
              "\n",
              "    .colab-df-convert:hover {\n",
              "      background-color: #E2EBFA;\n",
              "      box-shadow: 0px 1px 2px rgba(60, 64, 67, 0.3), 0px 1px 3px 1px rgba(60, 64, 67, 0.15);\n",
              "      fill: #174EA6;\n",
              "    }\n",
              "\n",
              "    [theme=dark] .colab-df-convert {\n",
              "      background-color: #3B4455;\n",
              "      fill: #D2E3FC;\n",
              "    }\n",
              "\n",
              "    [theme=dark] .colab-df-convert:hover {\n",
              "      background-color: #434B5C;\n",
              "      box-shadow: 0px 1px 3px 1px rgba(0, 0, 0, 0.15);\n",
              "      filter: drop-shadow(0px 1px 2px rgba(0, 0, 0, 0.3));\n",
              "      fill: #FFFFFF;\n",
              "    }\n",
              "  </style>\n",
              "\n",
              "      <script>\n",
              "        const buttonEl =\n",
              "          document.querySelector('#df-b6331b9a-ab2e-4b30-b8ab-82a04579e40d button.colab-df-convert');\n",
              "        buttonEl.style.display =\n",
              "          google.colab.kernel.accessAllowed ? 'block' : 'none';\n",
              "\n",
              "        async function convertToInteractive(key) {\n",
              "          const element = document.querySelector('#df-b6331b9a-ab2e-4b30-b8ab-82a04579e40d');\n",
              "          const dataTable =\n",
              "            await google.colab.kernel.invokeFunction('convertToInteractive',\n",
              "                                                     [key], {});\n",
              "          if (!dataTable) return;\n",
              "\n",
              "          const docLinkHtml = 'Like what you see? Visit the ' +\n",
              "            '<a target=\"_blank\" href=https://colab.research.google.com/notebooks/data_table.ipynb>data table notebook</a>'\n",
              "            + ' to learn more about interactive tables.';\n",
              "          element.innerHTML = '';\n",
              "          dataTable['output_type'] = 'display_data';\n",
              "          await google.colab.output.renderOutput(dataTable, element);\n",
              "          const docLink = document.createElement('div');\n",
              "          docLink.innerHTML = docLinkHtml;\n",
              "          element.appendChild(docLink);\n",
              "        }\n",
              "      </script>\n",
              "    </div>\n",
              "  </div>\n",
              "  "
            ]
          },
          "metadata": {},
          "execution_count": 56
        }
      ],
      "source": [
        "df"
      ]
    },
    {
      "cell_type": "code",
      "source": [
        "from sklearn.metrics import classification_report  \n",
        "print(classification_report(df['medical_specialty'],df['pred_medical_specialty']))"
      ],
      "metadata": {
        "id": "DciED7p76N3J",
        "outputId": "c68ec2b3-76e0-429e-8ff3-8afe08980601",
        "colab": {
          "base_uri": "https://localhost:8080/"
        }
      },
      "execution_count": 57,
      "outputs": [
        {
          "output_type": "stream",
          "name": "stdout",
          "text": [
            "                             precision    recall  f1-score   support\n",
            "\n",
            " Cardiovascular / Pulmonary       1.00      1.00      1.00       371\n",
            " Consult - History and Phy.       0.65      1.00      0.79       516\n",
            "                 Orthopedic       1.00      1.00      1.00       355\n",
            "                  Radiology       0.00      0.00      0.00       273\n",
            "\n",
            "                   accuracy                           0.82      1515\n",
            "                  macro avg       0.66      0.75      0.70      1515\n",
            "               weighted avg       0.70      0.82      0.75      1515\n",
            "\n"
          ]
        },
        {
          "output_type": "stream",
          "name": "stderr",
          "text": [
            "/usr/local/lib/python3.8/dist-packages/sklearn/metrics/_classification.py:1318: UndefinedMetricWarning: Precision and F-score are ill-defined and being set to 0.0 in labels with no predicted samples. Use `zero_division` parameter to control this behavior.\n",
            "  _warn_prf(average, modifier, msg_start, len(result))\n",
            "/usr/local/lib/python3.8/dist-packages/sklearn/metrics/_classification.py:1318: UndefinedMetricWarning: Precision and F-score are ill-defined and being set to 0.0 in labels with no predicted samples. Use `zero_division` parameter to control this behavior.\n",
            "  _warn_prf(average, modifier, msg_start, len(result))\n",
            "/usr/local/lib/python3.8/dist-packages/sklearn/metrics/_classification.py:1318: UndefinedMetricWarning: Precision and F-score are ill-defined and being set to 0.0 in labels with no predicted samples. Use `zero_division` parameter to control this behavior.\n",
            "  _warn_prf(average, modifier, msg_start, len(result))\n"
          ]
        }
      ]
    }
  ],
  "metadata": {
    "kernelspec": {
      "display_name": "Python 3",
      "language": "python",
      "name": "python3"
    },
    "language_info": {
      "codemirror_mode": {
        "name": "ipython",
        "version": 3
      },
      "file_extension": ".py",
      "mimetype": "text/x-python",
      "name": "python",
      "nbconvert_exporter": "python",
      "pygments_lexer": "ipython3",
      "version": "3.8.3"
    },
    "colab": {
      "provenance": []
    }
  },
  "nbformat": 4,
  "nbformat_minor": 0
}